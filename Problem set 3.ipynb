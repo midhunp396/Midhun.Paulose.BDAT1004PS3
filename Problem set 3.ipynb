{
 "cells": [
  {
   "cell_type": "markdown",
   "id": "0ecd36a6",
   "metadata": {},
   "source": [
    "# Question 1"
   ]
  },
  {
   "cell_type": "markdown",
   "id": "a74f3458",
   "metadata": {},
   "source": [
    "### Step 1"
   ]
  },
  {
   "cell_type": "code",
   "execution_count": 7,
   "id": "310480a5",
   "metadata": {},
   "outputs": [],
   "source": [
    "import pandas as pd"
   ]
  },
  {
   "cell_type": "markdown",
   "id": "c7aad54d",
   "metadata": {},
   "source": [
    "### Step 2"
   ]
  },
  {
   "cell_type": "code",
   "execution_count": 8,
   "id": "d31fd6f4",
   "metadata": {},
   "outputs": [],
   "source": [
    "url = 'https://raw.githubusercontent.com/justmarkham/DAT8/master/data/u.user'"
   ]
  },
  {
   "cell_type": "markdown",
   "id": "52f932da",
   "metadata": {},
   "source": [
    "### Step 3"
   ]
  },
  {
   "cell_type": "code",
   "execution_count": 10,
   "id": "1d3accde",
   "metadata": {},
   "outputs": [],
   "source": [
    "users = pd.read_csv(url, delimiter='|')"
   ]
  },
  {
   "cell_type": "markdown",
   "id": "f8207710",
   "metadata": {},
   "source": [
    "### Step 4"
   ]
  },
  {
   "cell_type": "code",
   "execution_count": 11,
   "id": "e56d1653",
   "metadata": {},
   "outputs": [
    {
     "name": "stdout",
     "output_type": "stream",
     "text": [
      "occupation\n",
      "administrator    38.746835\n",
      "artist           31.392857\n",
      "doctor           43.571429\n",
      "educator         42.010526\n",
      "engineer         36.388060\n",
      "entertainment    29.222222\n",
      "executive        38.718750\n",
      "healthcare       41.562500\n",
      "homemaker        32.571429\n",
      "lawyer           36.750000\n",
      "librarian        40.000000\n",
      "marketing        37.615385\n",
      "none             26.555556\n",
      "other            34.523810\n",
      "programmer       33.121212\n",
      "retired          63.071429\n",
      "salesman         35.666667\n",
      "scientist        35.548387\n",
      "student          22.081633\n",
      "technician       33.148148\n",
      "writer           36.311111\n",
      "Name: age, dtype: float64\n"
     ]
    }
   ],
   "source": [
    "mean_age = users.groupby('occupation')['age'].mean()\n",
    "print(mean_age)"
   ]
  },
  {
   "cell_type": "markdown",
   "id": "7204c5af",
   "metadata": {},
   "source": [
    "### Step 5"
   ]
  },
  {
   "cell_type": "code",
   "execution_count": 12,
   "id": "2a990bc4",
   "metadata": {},
   "outputs": [
    {
     "name": "stdout",
     "output_type": "stream",
     "text": [
      "occupation\n",
      "doctor           1.000000\n",
      "engineer         0.970149\n",
      "technician       0.962963\n",
      "retired          0.928571\n",
      "programmer       0.909091\n",
      "executive        0.906250\n",
      "scientist        0.903226\n",
      "entertainment    0.888889\n",
      "lawyer           0.833333\n",
      "salesman         0.750000\n",
      "educator         0.726316\n",
      "student          0.693878\n",
      "other            0.657143\n",
      "marketing        0.615385\n",
      "writer           0.577778\n",
      "none             0.555556\n",
      "administrator    0.544304\n",
      "artist           0.535714\n",
      "librarian        0.431373\n",
      "healthcare       0.312500\n",
      "homemaker        0.142857\n",
      "Name: gender_binary, dtype: float64\n"
     ]
    }
   ],
   "source": [
    "# create a new column to represent gender as binary values\n",
    "users['gender_binary'] = users['gender'].apply(lambda x: 1 if x == 'M' else 0)\n",
    "\n",
    "# group by occupation and calculate the mean of gender_binary\n",
    "gender_ratio = users.groupby('occupation')['gender_binary'].mean()\n",
    "\n",
    "# sort the values from highest to lowest\n",
    "gender_ratio = gender_ratio.sort_values(ascending=False)\n",
    "\n",
    "print(gender_ratio)\n"
   ]
  },
  {
   "cell_type": "markdown",
   "id": "b6515665",
   "metadata": {},
   "source": [
    "### Step 6"
   ]
  },
  {
   "cell_type": "code",
   "execution_count": 13,
   "id": "467c31d4",
   "metadata": {},
   "outputs": [
    {
     "name": "stdout",
     "output_type": "stream",
     "text": [
      "               min  max\n",
      "occupation             \n",
      "administrator   21   70\n",
      "artist          19   48\n",
      "doctor          28   64\n",
      "educator        23   63\n",
      "engineer        22   70\n",
      "entertainment   15   50\n",
      "executive       22   69\n",
      "healthcare      22   62\n",
      "homemaker       20   50\n",
      "lawyer          21   53\n",
      "librarian       23   69\n",
      "marketing       24   55\n",
      "none            11   55\n",
      "other           13   64\n",
      "programmer      20   63\n",
      "retired         51   73\n",
      "salesman        18   66\n",
      "scientist       23   55\n",
      "student          7   42\n",
      "technician      21   55\n",
      "writer          18   60\n"
     ]
    }
   ],
   "source": [
    "min_max_age = users.groupby('occupation')['age'].agg(['min', 'max'])\n",
    "print(min_max_age)"
   ]
  },
  {
   "cell_type": "markdown",
   "id": "c0b6121f",
   "metadata": {},
   "source": [
    "### Step 7"
   ]
  },
  {
   "cell_type": "code",
   "execution_count": 14,
   "id": "3c6df69b",
   "metadata": {},
   "outputs": [
    {
     "name": "stdout",
     "output_type": "stream",
     "text": [
      "occupation     gender\n",
      "administrator  F         40.638889\n",
      "               M         37.162791\n",
      "artist         F         30.307692\n",
      "               M         32.333333\n",
      "doctor         M         43.571429\n",
      "educator       F         39.115385\n",
      "               M         43.101449\n",
      "engineer       F         29.500000\n",
      "               M         36.600000\n",
      "entertainment  F         31.000000\n",
      "               M         29.000000\n",
      "executive      F         44.000000\n",
      "               M         38.172414\n",
      "healthcare     F         39.818182\n",
      "               M         45.400000\n",
      "homemaker      F         34.166667\n",
      "               M         23.000000\n",
      "lawyer         F         39.500000\n",
      "               M         36.200000\n",
      "librarian      F         40.000000\n",
      "               M         40.000000\n",
      "marketing      F         37.200000\n",
      "               M         37.875000\n",
      "none           F         36.500000\n",
      "               M         18.600000\n",
      "other          F         35.472222\n",
      "               M         34.028986\n",
      "programmer     F         32.166667\n",
      "               M         33.216667\n",
      "retired        F         70.000000\n",
      "               M         62.538462\n",
      "salesman       F         27.000000\n",
      "               M         38.555556\n",
      "scientist      F         28.333333\n",
      "               M         36.321429\n",
      "student        F         20.750000\n",
      "               M         22.669118\n",
      "technician     F         38.000000\n",
      "               M         32.961538\n",
      "writer         F         37.631579\n",
      "               M         35.346154\n",
      "Name: age, dtype: float64\n"
     ]
    }
   ],
   "source": [
    "mean_age_gender = users.groupby(['occupation', 'gender'])['age'].mean()\n",
    "print(mean_age_gender)"
   ]
  },
  {
   "cell_type": "markdown",
   "id": "15bc420f",
   "metadata": {},
   "source": [
    "### Step 8"
   ]
  },
  {
   "cell_type": "code",
   "execution_count": 15,
   "id": "1b769f9f",
   "metadata": {},
   "outputs": [
    {
     "name": "stdout",
     "output_type": "stream",
     "text": [
      "gender                 F           M\n",
      "occupation                          \n",
      "administrator  45.569620   54.430380\n",
      "artist         46.428571   53.571429\n",
      "doctor               NaN  100.000000\n",
      "educator       27.368421   72.631579\n",
      "engineer        2.985075   97.014925\n",
      "entertainment  11.111111   88.888889\n",
      "executive       9.375000   90.625000\n",
      "healthcare     68.750000   31.250000\n",
      "homemaker      85.714286   14.285714\n",
      "lawyer         16.666667   83.333333\n",
      "librarian      56.862745   43.137255\n",
      "marketing      38.461538   61.538462\n",
      "none           44.444444   55.555556\n",
      "other          34.285714   65.714286\n",
      "programmer      9.090909   90.909091\n",
      "retired         7.142857   92.857143\n",
      "salesman       25.000000   75.000000\n",
      "scientist       9.677419   90.322581\n",
      "student        30.612245   69.387755\n",
      "technician      3.703704   96.296296\n",
      "writer         42.222222   57.777778\n"
     ]
    }
   ],
   "source": [
    "# create a new dataframe to hold the results\n",
    "gender_counts = users.groupby(['occupation', 'gender'])['gender'].count()\n",
    "\n",
    "# calculate the total number of people in each occupation\n",
    "occupation_totals = users.groupby('occupation')['gender'].count()\n",
    "\n",
    "# calculate the percentage of each gender in each occupation\n",
    "gender_percentages = (gender_counts / occupation_totals) * 100\n",
    "\n",
    "# unstack the data to create a more readable format\n",
    "gender_percentages = gender_percentages.unstack()\n",
    "\n",
    "print(gender_percentages)\n"
   ]
  },
  {
   "cell_type": "markdown",
   "id": "df52717a",
   "metadata": {},
   "source": [
    "# Question 2"
   ]
  },
  {
   "cell_type": "markdown",
   "id": "f7227b03",
   "metadata": {},
   "source": [
    "### Step 1"
   ]
  },
  {
   "cell_type": "code",
   "execution_count": 16,
   "id": "0795939b",
   "metadata": {},
   "outputs": [],
   "source": [
    "import pandas as pd"
   ]
  },
  {
   "cell_type": "markdown",
   "id": "882d2769",
   "metadata": {},
   "source": [
    "### Step 2"
   ]
  },
  {
   "cell_type": "code",
   "execution_count": 17,
   "id": "7d42576c",
   "metadata": {},
   "outputs": [],
   "source": [
    "url = 'https://raw.githubusercontent.com/guipsamora/pandas_exercises/master/02_Filtering_%26_Sorting/Euro12/Euro_2012_stats_TEAM.csv'\n",
    "euro12 = pd.read_csv(url)"
   ]
  },
  {
   "cell_type": "markdown",
   "id": "b74744cd",
   "metadata": {},
   "source": [
    "### Step 3"
   ]
  },
  {
   "cell_type": "code",
   "execution_count": 18,
   "id": "b2f0db2e",
   "metadata": {},
   "outputs": [],
   "source": [
    "euro12 = pd.read_csv(url)"
   ]
  },
  {
   "cell_type": "markdown",
   "id": "4be3a167",
   "metadata": {},
   "source": [
    "### Step 4"
   ]
  },
  {
   "cell_type": "code",
   "execution_count": 19,
   "id": "cb748b85",
   "metadata": {},
   "outputs": [
    {
     "name": "stdout",
     "output_type": "stream",
     "text": [
      "0      4\n",
      "1      4\n",
      "2      4\n",
      "3      5\n",
      "4      3\n",
      "5     10\n",
      "6      5\n",
      "7      6\n",
      "8      2\n",
      "9      2\n",
      "10     6\n",
      "11     1\n",
      "12     5\n",
      "13    12\n",
      "14     5\n",
      "15     2\n",
      "Name: Goals, dtype: int64\n"
     ]
    }
   ],
   "source": [
    "goals = euro12['Goals']\n",
    "print(goals)"
   ]
  },
  {
   "cell_type": "markdown",
   "id": "a627cdf1",
   "metadata": {},
   "source": [
    "### Step 5"
   ]
  },
  {
   "cell_type": "code",
   "execution_count": 20,
   "id": "3bde0f46",
   "metadata": {},
   "outputs": [
    {
     "name": "stdout",
     "output_type": "stream",
     "text": [
      "16\n"
     ]
    }
   ],
   "source": [
    "num_teams = euro12['Team'].count()\n",
    "print(num_teams)"
   ]
  },
  {
   "cell_type": "markdown",
   "id": "c58b8ea5",
   "metadata": {},
   "source": [
    "### Step 6"
   ]
  },
  {
   "cell_type": "code",
   "execution_count": 21,
   "id": "a1ff78dd",
   "metadata": {},
   "outputs": [
    {
     "name": "stdout",
     "output_type": "stream",
     "text": [
      "35\n"
     ]
    }
   ],
   "source": [
    "num_columns = len(euro12.columns)\n",
    "print(num_columns)"
   ]
  },
  {
   "cell_type": "markdown",
   "id": "1eabd85d",
   "metadata": {},
   "source": [
    "### Step 7"
   ]
  },
  {
   "cell_type": "code",
   "execution_count": 22,
   "id": "e3d3d9ff",
   "metadata": {},
   "outputs": [
    {
     "name": "stdout",
     "output_type": "stream",
     "text": [
      "                   Team  Yellow Cards  Red Cards\n",
      "0               Croatia             9          0\n",
      "1        Czech Republic             7          0\n",
      "2               Denmark             4          0\n",
      "3               England             5          0\n",
      "4                France             6          0\n",
      "5               Germany             4          0\n",
      "6                Greece             9          1\n",
      "7                 Italy            16          0\n",
      "8           Netherlands             5          0\n",
      "9                Poland             7          1\n",
      "10             Portugal            12          0\n",
      "11  Republic of Ireland             6          1\n",
      "12               Russia             6          0\n",
      "13                Spain            11          0\n",
      "14               Sweden             7          0\n",
      "15              Ukraine             5          0\n"
     ]
    }
   ],
   "source": [
    "discipline = euro12[['Team', 'Yellow Cards', 'Red Cards']]\n",
    "print(discipline)"
   ]
  },
  {
   "cell_type": "markdown",
   "id": "8cbec225",
   "metadata": {},
   "source": [
    "### Step 8"
   ]
  },
  {
   "cell_type": "code",
   "execution_count": 24,
   "id": "03872209",
   "metadata": {},
   "outputs": [
    {
     "name": "stdout",
     "output_type": "stream",
     "text": [
      "                   Team  Yellow Cards  Red Cards\n",
      "6                Greece             9          1\n",
      "9                Poland             7          1\n",
      "11  Republic of Ireland             6          1\n",
      "7                 Italy            16          0\n",
      "10             Portugal            12          0\n",
      "13                Spain            11          0\n",
      "0               Croatia             9          0\n",
      "1        Czech Republic             7          0\n",
      "14               Sweden             7          0\n",
      "4                France             6          0\n",
      "12               Russia             6          0\n",
      "3               England             5          0\n",
      "8           Netherlands             5          0\n",
      "15              Ukraine             5          0\n",
      "2               Denmark             4          0\n",
      "5               Germany             4          0\n"
     ]
    }
   ],
   "source": [
    "discipline_sorted = discipline.sort_values(['Red Cards', 'Yellow Cards'], ascending=False)\n",
    "print(discipline_sorted)"
   ]
  },
  {
   "cell_type": "markdown",
   "id": "cd683a85",
   "metadata": {},
   "source": [
    "### Step 9"
   ]
  },
  {
   "cell_type": "code",
   "execution_count": 25,
   "id": "89a94de2",
   "metadata": {},
   "outputs": [
    {
     "name": "stdout",
     "output_type": "stream",
     "text": [
      "7.4375\n"
     ]
    }
   ],
   "source": [
    "mean_yellow_cards = euro12['Yellow Cards'].mean()\n",
    "print(mean_yellow_cards)"
   ]
  },
  {
   "cell_type": "markdown",
   "id": "f80dd314",
   "metadata": {},
   "source": [
    "### Step 10"
   ]
  },
  {
   "cell_type": "code",
   "execution_count": 27,
   "id": "7d630991",
   "metadata": {},
   "outputs": [
    {
     "name": "stdout",
     "output_type": "stream",
     "text": [
      "5     Germany\n",
      "13      Spain\n",
      "Name: Team, dtype: object\n"
     ]
    }
   ],
   "source": [
    "high_scoring_teams = euro12[euro12['Goals'] > 6]['Team']\n",
    "print(high_scoring_teams)"
   ]
  },
  {
   "cell_type": "markdown",
   "id": "4d06bfbf",
   "metadata": {},
   "source": [
    "### Step 11"
   ]
  },
  {
   "cell_type": "code",
   "execution_count": 28,
   "id": "4647c830",
   "metadata": {},
   "outputs": [
    {
     "name": "stdout",
     "output_type": "stream",
     "text": [
      "5    Germany\n",
      "6     Greece\n",
      "Name: Team, dtype: object\n"
     ]
    }
   ],
   "source": [
    "G_teams = euro12[euro12['Team'].str.startswith('G')]['Team']\n",
    "print(G_teams)"
   ]
  },
  {
   "cell_type": "markdown",
   "id": "491b80ce",
   "metadata": {},
   "source": [
    "### Step 12"
   ]
  },
  {
   "cell_type": "code",
   "execution_count": 29,
   "id": "d89fa98b",
   "metadata": {},
   "outputs": [
    {
     "name": "stdout",
     "output_type": "stream",
     "text": [
      "                   Team  Goals  Shots on target  Shots off target  \\\n",
      "0               Croatia      4               13                12   \n",
      "1        Czech Republic      4               13                18   \n",
      "2               Denmark      4               10                10   \n",
      "3               England      5               11                18   \n",
      "4                France      3               22                24   \n",
      "5               Germany     10               32                32   \n",
      "6                Greece      5                8                18   \n",
      "7                 Italy      6               34                45   \n",
      "8           Netherlands      2               12                36   \n",
      "9                Poland      2               15                23   \n",
      "10             Portugal      6               22                42   \n",
      "11  Republic of Ireland      1                7                12   \n",
      "12               Russia      5                9                31   \n",
      "13                Spain     12               42                33   \n",
      "14               Sweden      5               17                19   \n",
      "15              Ukraine      2                7                26   \n",
      "\n",
      "   Shooting Accuracy % Goals-to-shots  Total shots (inc. Blocked)  \n",
      "0              51.9%            16.0%                          32  \n",
      "1              41.9%            12.9%                          39  \n",
      "2              50.0%            20.0%                          27  \n",
      "3              50.0%            17.2%                          40  \n",
      "4              37.9%             6.5%                          65  \n",
      "5              47.8%            15.6%                          80  \n",
      "6              30.7%            19.2%                          32  \n",
      "7              43.0%             7.5%                         110  \n",
      "8              25.0%             4.1%                          60  \n",
      "9              39.4%             5.2%                          48  \n",
      "10             34.3%             9.3%                          82  \n",
      "11             36.8%             5.2%                          28  \n",
      "12             22.5%            12.5%                          59  \n",
      "13             55.9%            16.0%                         100  \n",
      "14             47.2%            13.8%                          39  \n",
      "15             21.2%             6.0%                          38  \n"
     ]
    }
   ],
   "source": [
    "first_7_cols = euro12.iloc[:, :7]\n",
    "print(first_7_cols)"
   ]
  },
  {
   "cell_type": "markdown",
   "id": "ccdd5788",
   "metadata": {},
   "source": [
    "### Step 13"
   ]
  },
  {
   "cell_type": "code",
   "execution_count": 30,
   "id": "1740b711",
   "metadata": {},
   "outputs": [
    {
     "name": "stdout",
     "output_type": "stream",
     "text": [
      "                   Team  Goals  Shots on target  Shots off target  \\\n",
      "0               Croatia      4               13                12   \n",
      "1        Czech Republic      4               13                18   \n",
      "2               Denmark      4               10                10   \n",
      "3               England      5               11                18   \n",
      "4                France      3               22                24   \n",
      "5               Germany     10               32                32   \n",
      "6                Greece      5                8                18   \n",
      "7                 Italy      6               34                45   \n",
      "8           Netherlands      2               12                36   \n",
      "9                Poland      2               15                23   \n",
      "10             Portugal      6               22                42   \n",
      "11  Republic of Ireland      1                7                12   \n",
      "12               Russia      5                9                31   \n",
      "13                Spain     12               42                33   \n",
      "14               Sweden      5               17                19   \n",
      "15              Ukraine      2                7                26   \n",
      "\n",
      "   Shooting Accuracy % Goals-to-shots  Total shots (inc. Blocked)  \\\n",
      "0              51.9%            16.0%                          32   \n",
      "1              41.9%            12.9%                          39   \n",
      "2              50.0%            20.0%                          27   \n",
      "3              50.0%            17.2%                          40   \n",
      "4              37.9%             6.5%                          65   \n",
      "5              47.8%            15.6%                          80   \n",
      "6              30.7%            19.2%                          32   \n",
      "7              43.0%             7.5%                         110   \n",
      "8              25.0%             4.1%                          60   \n",
      "9              39.4%             5.2%                          48   \n",
      "10             34.3%             9.3%                          82   \n",
      "11             36.8%             5.2%                          28   \n",
      "12             22.5%            12.5%                          59   \n",
      "13             55.9%            16.0%                         100   \n",
      "14             47.2%            13.8%                          39   \n",
      "15             21.2%             6.0%                          38   \n",
      "\n",
      "    Hit Woodwork  Penalty goals  Penalties not scored  ...  Clean Sheets  \\\n",
      "0              0              0                     0  ...             0   \n",
      "1              0              0                     0  ...             1   \n",
      "2              1              0                     0  ...             1   \n",
      "3              0              0                     0  ...             2   \n",
      "4              1              0                     0  ...             1   \n",
      "5              2              1                     0  ...             1   \n",
      "6              1              1                     1  ...             1   \n",
      "7              2              0                     0  ...             2   \n",
      "8              2              0                     0  ...             0   \n",
      "9              0              0                     0  ...             0   \n",
      "10             6              0                     0  ...             2   \n",
      "11             0              0                     0  ...             0   \n",
      "12             2              0                     0  ...             0   \n",
      "13             0              1                     0  ...             5   \n",
      "14             3              0                     0  ...             1   \n",
      "15             0              0                     0  ...             0   \n",
      "\n",
      "    Blocks  Goals conceded Saves made  Saves-to-shots ratio  Fouls Won  \\\n",
      "0       10               3         13                 81.3%         41   \n",
      "1       10               6          9                 60.1%         53   \n",
      "2       10               5         10                 66.7%         25   \n",
      "3       29               3         22                 88.1%         43   \n",
      "4        7               5          6                 54.6%         36   \n",
      "5       11               6         10                 62.6%         63   \n",
      "6       23               7         13                 65.1%         67   \n",
      "7       18               7         20                 74.1%        101   \n",
      "8        9               5         12                 70.6%         35   \n",
      "9        8               3          6                 66.7%         48   \n",
      "10      11               4         10                 71.5%         73   \n",
      "11      23               9         17                 65.4%         43   \n",
      "12       8               3         10                 77.0%         34   \n",
      "13       8               1         15                 93.8%        102   \n",
      "14      12               5          8                 61.6%         35   \n",
      "15       4               4         13                 76.5%         48   \n",
      "\n",
      "    Fouls Conceded  Offsides  Yellow Cards  Red Cards  \n",
      "0               62         2             9          0  \n",
      "1               73         8             7          0  \n",
      "2               38         8             4          0  \n",
      "3               45         6             5          0  \n",
      "4               51         5             6          0  \n",
      "5               49        12             4          0  \n",
      "6               48        12             9          1  \n",
      "7               89        16            16          0  \n",
      "8               30         3             5          0  \n",
      "9               56         3             7          1  \n",
      "10              90        10            12          0  \n",
      "11              51        11             6          1  \n",
      "12              43         4             6          0  \n",
      "13              83        19            11          0  \n",
      "14              51         7             7          0  \n",
      "15              31         4             5          0  \n",
      "\n",
      "[16 rows x 32 columns]\n"
     ]
    }
   ],
   "source": [
    "all_except_last_3_cols = euro12.iloc[:, :-3]\n",
    "print(all_except_last_3_cols)"
   ]
  },
  {
   "cell_type": "markdown",
   "id": "ad3cc690",
   "metadata": {},
   "source": [
    "### Step 14"
   ]
  },
  {
   "cell_type": "code",
   "execution_count": 31,
   "id": "9ae3d10b",
   "metadata": {},
   "outputs": [
    {
     "name": "stdout",
     "output_type": "stream",
     "text": [
      "       Team Shooting Accuracy\n",
      "3   England             50.0%\n",
      "7     Italy             43.0%\n",
      "12   Russia             22.5%\n"
     ]
    }
   ],
   "source": [
    "# filter the rows for England, Italy, and Russia\n",
    "eir = euro12.loc[euro12['Team'].isin(['England', 'Italy', 'Russia'])]\n",
    "\n",
    "# select only the columns for Team and Shooting Accuracy\n",
    "eir_shooting_acc = eir[['Team', 'Shooting Accuracy']]\n",
    "\n",
    "print(eir_shooting_acc)"
   ]
  },
  {
   "cell_type": "markdown",
   "id": "cc3d0af5",
   "metadata": {},
   "source": [
    "# Question 3"
   ]
  },
  {
   "cell_type": "markdown",
   "id": "e15f5215",
   "metadata": {},
   "source": [
    "### Step 1"
   ]
  },
  {
   "cell_type": "code",
   "execution_count": 32,
   "id": "70250b3d",
   "metadata": {},
   "outputs": [],
   "source": [
    "import pandas as pd\n",
    "import numpy as np"
   ]
  },
  {
   "cell_type": "markdown",
   "id": "9cc96600",
   "metadata": {},
   "source": [
    "### Step 2"
   ]
  },
  {
   "cell_type": "code",
   "execution_count": 48,
   "id": "2e8b63a4",
   "metadata": {},
   "outputs": [],
   "source": [
    "s1 = pd.Series(np.random.randint(1, 5, size=100))\n",
    "\n",
    "s2 = pd.Series(np.random.randint(1, 4, size=100))\n",
    "\n",
    "s3 = pd.Series(np.random.randint(10000, 30001, size=100))"
   ]
  },
  {
   "cell_type": "code",
   "execution_count": 55,
   "id": "48860f1e",
   "metadata": {},
   "outputs": [
    {
     "data": {
      "text/plain": [
       "0     1\n",
       "1     1\n",
       "2     3\n",
       "3     4\n",
       "4     2\n",
       "     ..\n",
       "95    1\n",
       "96    3\n",
       "97    3\n",
       "98    2\n",
       "99    3\n",
       "Length: 100, dtype: int32"
      ]
     },
     "metadata": {},
     "output_type": "display_data"
    },
    {
     "data": {
      "text/plain": [
       "0     2\n",
       "1     3\n",
       "2     2\n",
       "3     2\n",
       "4     2\n",
       "     ..\n",
       "95    1\n",
       "96    3\n",
       "97    2\n",
       "98    3\n",
       "99    3\n",
       "Length: 100, dtype: int32"
      ]
     },
     "metadata": {},
     "output_type": "display_data"
    },
    {
     "data": {
      "text/plain": [
       "0     12945\n",
       "1     24310\n",
       "2     26916\n",
       "3     15743\n",
       "4     25539\n",
       "      ...  \n",
       "95    20242\n",
       "96    24493\n",
       "97    17231\n",
       "98    18158\n",
       "99    14307\n",
       "Length: 100, dtype: int32"
      ]
     },
     "metadata": {},
     "output_type": "display_data"
    }
   ],
   "source": [
    "display(s1)\n",
    "display(s2)\n",
    "display(s3)"
   ]
  },
  {
   "cell_type": "markdown",
   "id": "6234970b",
   "metadata": {},
   "source": [
    "### Step 3"
   ]
  },
  {
   "cell_type": "code",
   "execution_count": 57,
   "id": "51734a1f",
   "metadata": {},
   "outputs": [
    {
     "data": {
      "text/html": [
       "<div>\n",
       "<style scoped>\n",
       "    .dataframe tbody tr th:only-of-type {\n",
       "        vertical-align: middle;\n",
       "    }\n",
       "\n",
       "    .dataframe tbody tr th {\n",
       "        vertical-align: top;\n",
       "    }\n",
       "\n",
       "    .dataframe thead th {\n",
       "        text-align: right;\n",
       "    }\n",
       "</style>\n",
       "<table border=\"1\" class=\"dataframe\">\n",
       "  <thead>\n",
       "    <tr style=\"text-align: right;\">\n",
       "      <th></th>\n",
       "      <th>0</th>\n",
       "      <th>1</th>\n",
       "      <th>2</th>\n",
       "    </tr>\n",
       "  </thead>\n",
       "  <tbody>\n",
       "    <tr>\n",
       "      <th>0</th>\n",
       "      <td>1</td>\n",
       "      <td>2</td>\n",
       "      <td>12945</td>\n",
       "    </tr>\n",
       "    <tr>\n",
       "      <th>1</th>\n",
       "      <td>1</td>\n",
       "      <td>3</td>\n",
       "      <td>24310</td>\n",
       "    </tr>\n",
       "    <tr>\n",
       "      <th>2</th>\n",
       "      <td>3</td>\n",
       "      <td>2</td>\n",
       "      <td>26916</td>\n",
       "    </tr>\n",
       "    <tr>\n",
       "      <th>3</th>\n",
       "      <td>4</td>\n",
       "      <td>2</td>\n",
       "      <td>15743</td>\n",
       "    </tr>\n",
       "    <tr>\n",
       "      <th>4</th>\n",
       "      <td>2</td>\n",
       "      <td>2</td>\n",
       "      <td>25539</td>\n",
       "    </tr>\n",
       "    <tr>\n",
       "      <th>...</th>\n",
       "      <td>...</td>\n",
       "      <td>...</td>\n",
       "      <td>...</td>\n",
       "    </tr>\n",
       "    <tr>\n",
       "      <th>95</th>\n",
       "      <td>1</td>\n",
       "      <td>1</td>\n",
       "      <td>20242</td>\n",
       "    </tr>\n",
       "    <tr>\n",
       "      <th>96</th>\n",
       "      <td>3</td>\n",
       "      <td>3</td>\n",
       "      <td>24493</td>\n",
       "    </tr>\n",
       "    <tr>\n",
       "      <th>97</th>\n",
       "      <td>3</td>\n",
       "      <td>2</td>\n",
       "      <td>17231</td>\n",
       "    </tr>\n",
       "    <tr>\n",
       "      <th>98</th>\n",
       "      <td>2</td>\n",
       "      <td>3</td>\n",
       "      <td>18158</td>\n",
       "    </tr>\n",
       "    <tr>\n",
       "      <th>99</th>\n",
       "      <td>3</td>\n",
       "      <td>3</td>\n",
       "      <td>14307</td>\n",
       "    </tr>\n",
       "  </tbody>\n",
       "</table>\n",
       "<p>100 rows × 3 columns</p>\n",
       "</div>"
      ],
      "text/plain": [
       "    0  1      2\n",
       "0   1  2  12945\n",
       "1   1  3  24310\n",
       "2   3  2  26916\n",
       "3   4  2  15743\n",
       "4   2  2  25539\n",
       ".. .. ..    ...\n",
       "95  1  1  20242\n",
       "96  3  3  24493\n",
       "97  3  2  17231\n",
       "98  2  3  18158\n",
       "99  3  3  14307\n",
       "\n",
       "[100 rows x 3 columns]"
      ]
     },
     "metadata": {},
     "output_type": "display_data"
    }
   ],
   "source": [
    "df = pd.concat([s1, s2, s3], axis=1)\n",
    "display(df)"
   ]
  },
  {
   "cell_type": "markdown",
   "id": "5c375e2f",
   "metadata": {},
   "source": [
    "### Step 4"
   ]
  },
  {
   "cell_type": "code",
   "execution_count": 58,
   "id": "ddb31872",
   "metadata": {},
   "outputs": [
    {
     "data": {
      "text/html": [
       "<div>\n",
       "<style scoped>\n",
       "    .dataframe tbody tr th:only-of-type {\n",
       "        vertical-align: middle;\n",
       "    }\n",
       "\n",
       "    .dataframe tbody tr th {\n",
       "        vertical-align: top;\n",
       "    }\n",
       "\n",
       "    .dataframe thead th {\n",
       "        text-align: right;\n",
       "    }\n",
       "</style>\n",
       "<table border=\"1\" class=\"dataframe\">\n",
       "  <thead>\n",
       "    <tr style=\"text-align: right;\">\n",
       "      <th></th>\n",
       "      <th>bedrs</th>\n",
       "      <th>bathrs</th>\n",
       "      <th>price_sqr_meter</th>\n",
       "    </tr>\n",
       "  </thead>\n",
       "  <tbody>\n",
       "    <tr>\n",
       "      <th>0</th>\n",
       "      <td>1</td>\n",
       "      <td>2</td>\n",
       "      <td>12945</td>\n",
       "    </tr>\n",
       "    <tr>\n",
       "      <th>1</th>\n",
       "      <td>1</td>\n",
       "      <td>3</td>\n",
       "      <td>24310</td>\n",
       "    </tr>\n",
       "    <tr>\n",
       "      <th>2</th>\n",
       "      <td>3</td>\n",
       "      <td>2</td>\n",
       "      <td>26916</td>\n",
       "    </tr>\n",
       "    <tr>\n",
       "      <th>3</th>\n",
       "      <td>4</td>\n",
       "      <td>2</td>\n",
       "      <td>15743</td>\n",
       "    </tr>\n",
       "    <tr>\n",
       "      <th>4</th>\n",
       "      <td>2</td>\n",
       "      <td>2</td>\n",
       "      <td>25539</td>\n",
       "    </tr>\n",
       "    <tr>\n",
       "      <th>...</th>\n",
       "      <td>...</td>\n",
       "      <td>...</td>\n",
       "      <td>...</td>\n",
       "    </tr>\n",
       "    <tr>\n",
       "      <th>95</th>\n",
       "      <td>1</td>\n",
       "      <td>1</td>\n",
       "      <td>20242</td>\n",
       "    </tr>\n",
       "    <tr>\n",
       "      <th>96</th>\n",
       "      <td>3</td>\n",
       "      <td>3</td>\n",
       "      <td>24493</td>\n",
       "    </tr>\n",
       "    <tr>\n",
       "      <th>97</th>\n",
       "      <td>3</td>\n",
       "      <td>2</td>\n",
       "      <td>17231</td>\n",
       "    </tr>\n",
       "    <tr>\n",
       "      <th>98</th>\n",
       "      <td>2</td>\n",
       "      <td>3</td>\n",
       "      <td>18158</td>\n",
       "    </tr>\n",
       "    <tr>\n",
       "      <th>99</th>\n",
       "      <td>3</td>\n",
       "      <td>3</td>\n",
       "      <td>14307</td>\n",
       "    </tr>\n",
       "  </tbody>\n",
       "</table>\n",
       "<p>100 rows × 3 columns</p>\n",
       "</div>"
      ],
      "text/plain": [
       "    bedrs  bathrs  price_sqr_meter\n",
       "0       1       2            12945\n",
       "1       1       3            24310\n",
       "2       3       2            26916\n",
       "3       4       2            15743\n",
       "4       2       2            25539\n",
       "..    ...     ...              ...\n",
       "95      1       1            20242\n",
       "96      3       3            24493\n",
       "97      3       2            17231\n",
       "98      2       3            18158\n",
       "99      3       3            14307\n",
       "\n",
       "[100 rows x 3 columns]"
      ]
     },
     "metadata": {},
     "output_type": "display_data"
    }
   ],
   "source": [
    "df.columns = ['bedrs', 'bathrs', 'price_sqr_meter']\n",
    "display(df)"
   ]
  },
  {
   "cell_type": "markdown",
   "id": "b366ffc4",
   "metadata": {},
   "source": [
    "### Step 5"
   ]
  },
  {
   "cell_type": "code",
   "execution_count": 59,
   "id": "e8a8441b",
   "metadata": {},
   "outputs": [
    {
     "data": {
      "text/html": [
       "<div>\n",
       "<style scoped>\n",
       "    .dataframe tbody tr th:only-of-type {\n",
       "        vertical-align: middle;\n",
       "    }\n",
       "\n",
       "    .dataframe tbody tr th {\n",
       "        vertical-align: top;\n",
       "    }\n",
       "\n",
       "    .dataframe thead th {\n",
       "        text-align: right;\n",
       "    }\n",
       "</style>\n",
       "<table border=\"1\" class=\"dataframe\">\n",
       "  <thead>\n",
       "    <tr style=\"text-align: right;\">\n",
       "      <th></th>\n",
       "      <th>0</th>\n",
       "    </tr>\n",
       "  </thead>\n",
       "  <tbody>\n",
       "    <tr>\n",
       "      <th>0</th>\n",
       "      <td>1</td>\n",
       "    </tr>\n",
       "    <tr>\n",
       "      <th>1</th>\n",
       "      <td>1</td>\n",
       "    </tr>\n",
       "    <tr>\n",
       "      <th>2</th>\n",
       "      <td>3</td>\n",
       "    </tr>\n",
       "    <tr>\n",
       "      <th>3</th>\n",
       "      <td>4</td>\n",
       "    </tr>\n",
       "    <tr>\n",
       "      <th>4</th>\n",
       "      <td>2</td>\n",
       "    </tr>\n",
       "    <tr>\n",
       "      <th>...</th>\n",
       "      <td>...</td>\n",
       "    </tr>\n",
       "    <tr>\n",
       "      <th>95</th>\n",
       "      <td>20242</td>\n",
       "    </tr>\n",
       "    <tr>\n",
       "      <th>96</th>\n",
       "      <td>24493</td>\n",
       "    </tr>\n",
       "    <tr>\n",
       "      <th>97</th>\n",
       "      <td>17231</td>\n",
       "    </tr>\n",
       "    <tr>\n",
       "      <th>98</th>\n",
       "      <td>18158</td>\n",
       "    </tr>\n",
       "    <tr>\n",
       "      <th>99</th>\n",
       "      <td>14307</td>\n",
       "    </tr>\n",
       "  </tbody>\n",
       "</table>\n",
       "<p>300 rows × 1 columns</p>\n",
       "</div>"
      ],
      "text/plain": [
       "        0\n",
       "0       1\n",
       "1       1\n",
       "2       3\n",
       "3       4\n",
       "4       2\n",
       "..    ...\n",
       "95  20242\n",
       "96  24493\n",
       "97  17231\n",
       "98  18158\n",
       "99  14307\n",
       "\n",
       "[300 rows x 1 columns]"
      ]
     },
     "metadata": {},
     "output_type": "display_data"
    }
   ],
   "source": [
    "bigcolumn = pd.concat([s1, s2, s3], axis=0)\n",
    "bigcolumn = bigcolumn.to_frame()\n",
    "display(bigcolumn)"
   ]
  },
  {
   "cell_type": "markdown",
   "id": "ce645ca3",
   "metadata": {},
   "source": [
    "### Step 6"
   ]
  },
  {
   "cell_type": "code",
   "execution_count": 39,
   "id": "bd791ded",
   "metadata": {},
   "outputs": [
    {
     "name": "stdout",
     "output_type": "stream",
     "text": [
      "99\n"
     ]
    }
   ],
   "source": [
    "print(bigcolumn.index.max())"
   ]
  },
  {
   "cell_type": "markdown",
   "id": "f9c531e4",
   "metadata": {},
   "source": [
    "### Step 7"
   ]
  },
  {
   "cell_type": "code",
   "execution_count": 41,
   "id": "800be081",
   "metadata": {},
   "outputs": [],
   "source": [
    "bigcolumn.reset_index(drop=True, inplace=True)"
   ]
  },
  {
   "cell_type": "code",
   "execution_count": 42,
   "id": "b79bf09d",
   "metadata": {},
   "outputs": [
    {
     "name": "stdout",
     "output_type": "stream",
     "text": [
      "299\n"
     ]
    }
   ],
   "source": [
    "print(bigcolumn.index.max())"
   ]
  },
  {
   "cell_type": "markdown",
   "id": "478245fa",
   "metadata": {},
   "source": [
    "# Question 4"
   ]
  },
  {
   "cell_type": "markdown",
   "id": "3d49cfaa",
   "metadata": {},
   "source": [
    "### Step 1"
   ]
  },
  {
   "cell_type": "code",
   "execution_count": 2,
   "id": "6682cfb2",
   "metadata": {},
   "outputs": [],
   "source": [
    "import pandas as pd\n",
    "import numpy as np"
   ]
  },
  {
   "cell_type": "markdown",
   "id": "9a2b297c",
   "metadata": {},
   "source": [
    "### Step 2"
   ]
  },
  {
   "cell_type": "code",
   "execution_count": 19,
   "id": "5aa483d2",
   "metadata": {},
   "outputs": [],
   "source": [
    "data = pd.read_csv('wind.txt', sep='\\s+', parse_dates=[[0, 1, 2]])"
   ]
  },
  {
   "cell_type": "markdown",
   "id": "4b2d351a",
   "metadata": {},
   "source": [
    "### Step 3"
   ]
  },
  {
   "cell_type": "code",
   "execution_count": 20,
   "id": "a112c2ff",
   "metadata": {},
   "outputs": [],
   "source": [
    "data = data.set_index('Yr_Mo_Dy')"
   ]
  },
  {
   "cell_type": "markdown",
   "id": "7a2d6187",
   "metadata": {},
   "source": [
    "### Step 4"
   ]
  },
  {
   "cell_type": "code",
   "execution_count": 21,
   "id": "71302a6c",
   "metadata": {},
   "outputs": [],
   "source": [
    "def fix_year(x):\n",
    "    year = x.year - 100 if x.year > 1989 else x.year\n",
    "    return pd.to_datetime(year * 10000 + x.month * 100 + x.day, format='%Y%m%d')\n",
    "\n",
    "data.index = data.index.map(fix_year)"
   ]
  },
  {
   "cell_type": "markdown",
   "id": "3d332654",
   "metadata": {},
   "source": [
    "### Step 5"
   ]
  },
  {
   "cell_type": "code",
   "execution_count": 22,
   "id": "032e5585",
   "metadata": {},
   "outputs": [],
   "source": [
    "data.index = pd.to_datetime(data.index)"
   ]
  },
  {
   "cell_type": "markdown",
   "id": "85e355a9",
   "metadata": {},
   "source": [
    "### Step 6"
   ]
  },
  {
   "cell_type": "code",
   "execution_count": 36,
   "id": "542de6aa",
   "metadata": {},
   "outputs": [
    {
     "name": "stdout",
     "output_type": "stream",
     "text": [
      "RPT    6\n",
      "VAL    3\n",
      "ROS    2\n",
      "KIL    5\n",
      "SHA    2\n",
      "BIR    0\n",
      "DUB    3\n",
      "CLA    2\n",
      "MUL    3\n",
      "CLO    1\n",
      "BEL    0\n",
      "MAL    4\n",
      "dtype: int64\n"
     ]
    }
   ],
   "source": [
    "missing_values = data.isna().sum()\n",
    "print(missing_values)"
   ]
  },
  {
   "cell_type": "markdown",
   "id": "e17e9966",
   "metadata": {},
   "source": [
    "### Step 7"
   ]
  },
  {
   "cell_type": "code",
   "execution_count": 37,
   "id": "531f705d",
   "metadata": {},
   "outputs": [
    {
     "name": "stdout",
     "output_type": "stream",
     "text": [
      "78857\n"
     ]
    }
   ],
   "source": [
    "non_missing_values = data.count().sum()\n",
    "print(non_missing_values)"
   ]
  },
  {
   "cell_type": "markdown",
   "id": "cf4cad29",
   "metadata": {},
   "source": [
    "### Step 8"
   ]
  },
  {
   "cell_type": "code",
   "execution_count": 38,
   "id": "d15f617f",
   "metadata": {},
   "outputs": [
    {
     "name": "stdout",
     "output_type": "stream",
     "text": [
      "10.227982360836924\n"
     ]
    }
   ],
   "source": [
    "mean_windspeed = data.mean().mean()\n",
    "print(mean_windspeed)"
   ]
  },
  {
   "cell_type": "markdown",
   "id": "6cf6dfde",
   "metadata": {},
   "source": [
    "### Step 9"
   ]
  },
  {
   "cell_type": "code",
   "execution_count": 39,
   "id": "021bd327",
   "metadata": {},
   "outputs": [
    {
     "data": {
      "text/html": [
       "<div>\n",
       "<style scoped>\n",
       "    .dataframe tbody tr th:only-of-type {\n",
       "        vertical-align: middle;\n",
       "    }\n",
       "\n",
       "    .dataframe tbody tr th {\n",
       "        vertical-align: top;\n",
       "    }\n",
       "\n",
       "    .dataframe thead th {\n",
       "        text-align: right;\n",
       "    }\n",
       "</style>\n",
       "<table border=\"1\" class=\"dataframe\">\n",
       "  <thead>\n",
       "    <tr style=\"text-align: right;\">\n",
       "      <th></th>\n",
       "      <th>min</th>\n",
       "      <th>max</th>\n",
       "      <th>mean</th>\n",
       "      <th>std</th>\n",
       "    </tr>\n",
       "  </thead>\n",
       "  <tbody>\n",
       "    <tr>\n",
       "      <th>RPT</th>\n",
       "      <td>0.67</td>\n",
       "      <td>35.80</td>\n",
       "      <td>12.362987</td>\n",
       "      <td>5.618413</td>\n",
       "    </tr>\n",
       "    <tr>\n",
       "      <th>VAL</th>\n",
       "      <td>0.21</td>\n",
       "      <td>33.37</td>\n",
       "      <td>10.644314</td>\n",
       "      <td>5.267356</td>\n",
       "    </tr>\n",
       "    <tr>\n",
       "      <th>ROS</th>\n",
       "      <td>1.50</td>\n",
       "      <td>33.84</td>\n",
       "      <td>11.660526</td>\n",
       "      <td>5.008450</td>\n",
       "    </tr>\n",
       "    <tr>\n",
       "      <th>KIL</th>\n",
       "      <td>0.00</td>\n",
       "      <td>28.46</td>\n",
       "      <td>6.306468</td>\n",
       "      <td>3.605811</td>\n",
       "    </tr>\n",
       "    <tr>\n",
       "      <th>SHA</th>\n",
       "      <td>0.13</td>\n",
       "      <td>37.54</td>\n",
       "      <td>10.455834</td>\n",
       "      <td>4.936125</td>\n",
       "    </tr>\n",
       "    <tr>\n",
       "      <th>BIR</th>\n",
       "      <td>0.00</td>\n",
       "      <td>26.16</td>\n",
       "      <td>7.092254</td>\n",
       "      <td>3.968683</td>\n",
       "    </tr>\n",
       "    <tr>\n",
       "      <th>DUB</th>\n",
       "      <td>0.00</td>\n",
       "      <td>30.37</td>\n",
       "      <td>9.797343</td>\n",
       "      <td>4.977555</td>\n",
       "    </tr>\n",
       "    <tr>\n",
       "      <th>CLA</th>\n",
       "      <td>0.00</td>\n",
       "      <td>31.08</td>\n",
       "      <td>8.495053</td>\n",
       "      <td>4.499449</td>\n",
       "    </tr>\n",
       "    <tr>\n",
       "      <th>MUL</th>\n",
       "      <td>0.00</td>\n",
       "      <td>25.88</td>\n",
       "      <td>8.493590</td>\n",
       "      <td>4.166872</td>\n",
       "    </tr>\n",
       "    <tr>\n",
       "      <th>CLO</th>\n",
       "      <td>0.04</td>\n",
       "      <td>28.21</td>\n",
       "      <td>8.707332</td>\n",
       "      <td>4.503954</td>\n",
       "    </tr>\n",
       "    <tr>\n",
       "      <th>BEL</th>\n",
       "      <td>0.13</td>\n",
       "      <td>42.38</td>\n",
       "      <td>13.121007</td>\n",
       "      <td>5.835037</td>\n",
       "    </tr>\n",
       "    <tr>\n",
       "      <th>MAL</th>\n",
       "      <td>0.67</td>\n",
       "      <td>42.54</td>\n",
       "      <td>15.599079</td>\n",
       "      <td>6.699794</td>\n",
       "    </tr>\n",
       "  </tbody>\n",
       "</table>\n",
       "</div>"
      ],
      "text/plain": [
       "      min    max       mean       std\n",
       "RPT  0.67  35.80  12.362987  5.618413\n",
       "VAL  0.21  33.37  10.644314  5.267356\n",
       "ROS  1.50  33.84  11.660526  5.008450\n",
       "KIL  0.00  28.46   6.306468  3.605811\n",
       "SHA  0.13  37.54  10.455834  4.936125\n",
       "BIR  0.00  26.16   7.092254  3.968683\n",
       "DUB  0.00  30.37   9.797343  4.977555\n",
       "CLA  0.00  31.08   8.495053  4.499449\n",
       "MUL  0.00  25.88   8.493590  4.166872\n",
       "CLO  0.04  28.21   8.707332  4.503954\n",
       "BEL  0.13  42.38  13.121007  5.835037\n",
       "MAL  0.67  42.54  15.599079  6.699794"
      ]
     },
     "metadata": {},
     "output_type": "display_data"
    }
   ],
   "source": [
    "loc_stats = pd.DataFrame()\n",
    "loc_stats['min'] = data.min()\n",
    "loc_stats['max'] = data.max()\n",
    "loc_stats['mean'] = data.mean()\n",
    "loc_stats['std'] = data.std()\n",
    "from IPython.display import display\n",
    "display(loc_stats)"
   ]
  },
  {
   "cell_type": "markdown",
   "id": "3589221d",
   "metadata": {},
   "source": [
    "### Step 10"
   ]
  },
  {
   "cell_type": "code",
   "execution_count": 40,
   "id": "d53c1aa9",
   "metadata": {},
   "outputs": [
    {
     "data": {
      "text/html": [
       "<div>\n",
       "<style scoped>\n",
       "    .dataframe tbody tr th:only-of-type {\n",
       "        vertical-align: middle;\n",
       "    }\n",
       "\n",
       "    .dataframe tbody tr th {\n",
       "        vertical-align: top;\n",
       "    }\n",
       "\n",
       "    .dataframe thead th {\n",
       "        text-align: right;\n",
       "    }\n",
       "</style>\n",
       "<table border=\"1\" class=\"dataframe\">\n",
       "  <thead>\n",
       "    <tr style=\"text-align: right;\">\n",
       "      <th></th>\n",
       "      <th>min</th>\n",
       "      <th>max</th>\n",
       "      <th>mean</th>\n",
       "      <th>std</th>\n",
       "    </tr>\n",
       "    <tr>\n",
       "      <th>Yr_Mo_Dy</th>\n",
       "      <th></th>\n",
       "      <th></th>\n",
       "      <th></th>\n",
       "      <th></th>\n",
       "    </tr>\n",
       "  </thead>\n",
       "  <tbody>\n",
       "    <tr>\n",
       "      <th>1961-01-01</th>\n",
       "      <td>9.29</td>\n",
       "      <td>18.50</td>\n",
       "      <td>13.018182</td>\n",
       "      <td>2.808875</td>\n",
       "    </tr>\n",
       "    <tr>\n",
       "      <th>1961-01-02</th>\n",
       "      <td>6.50</td>\n",
       "      <td>17.54</td>\n",
       "      <td>11.336364</td>\n",
       "      <td>3.188994</td>\n",
       "    </tr>\n",
       "    <tr>\n",
       "      <th>1961-01-03</th>\n",
       "      <td>6.17</td>\n",
       "      <td>18.50</td>\n",
       "      <td>11.641818</td>\n",
       "      <td>3.681912</td>\n",
       "    </tr>\n",
       "    <tr>\n",
       "      <th>1961-01-04</th>\n",
       "      <td>1.79</td>\n",
       "      <td>11.75</td>\n",
       "      <td>6.619167</td>\n",
       "      <td>3.198126</td>\n",
       "    </tr>\n",
       "    <tr>\n",
       "      <th>1961-01-05</th>\n",
       "      <td>6.17</td>\n",
       "      <td>13.33</td>\n",
       "      <td>10.630000</td>\n",
       "      <td>2.445356</td>\n",
       "    </tr>\n",
       "    <tr>\n",
       "      <th>...</th>\n",
       "      <td>...</td>\n",
       "      <td>...</td>\n",
       "      <td>...</td>\n",
       "      <td>...</td>\n",
       "    </tr>\n",
       "    <tr>\n",
       "      <th>1978-12-27</th>\n",
       "      <td>8.08</td>\n",
       "      <td>40.08</td>\n",
       "      <td>16.708333</td>\n",
       "      <td>7.868076</td>\n",
       "    </tr>\n",
       "    <tr>\n",
       "      <th>1978-12-28</th>\n",
       "      <td>5.00</td>\n",
       "      <td>41.46</td>\n",
       "      <td>15.150000</td>\n",
       "      <td>9.687857</td>\n",
       "    </tr>\n",
       "    <tr>\n",
       "      <th>1978-12-29</th>\n",
       "      <td>8.71</td>\n",
       "      <td>29.58</td>\n",
       "      <td>14.890000</td>\n",
       "      <td>5.756836</td>\n",
       "    </tr>\n",
       "    <tr>\n",
       "      <th>1978-12-30</th>\n",
       "      <td>9.13</td>\n",
       "      <td>28.79</td>\n",
       "      <td>15.367500</td>\n",
       "      <td>5.540437</td>\n",
       "    </tr>\n",
       "    <tr>\n",
       "      <th>1978-12-31</th>\n",
       "      <td>9.59</td>\n",
       "      <td>27.29</td>\n",
       "      <td>15.402500</td>\n",
       "      <td>5.702483</td>\n",
       "    </tr>\n",
       "  </tbody>\n",
       "</table>\n",
       "<p>6574 rows × 4 columns</p>\n",
       "</div>"
      ],
      "text/plain": [
       "             min    max       mean       std\n",
       "Yr_Mo_Dy                                    \n",
       "1961-01-01  9.29  18.50  13.018182  2.808875\n",
       "1961-01-02  6.50  17.54  11.336364  3.188994\n",
       "1961-01-03  6.17  18.50  11.641818  3.681912\n",
       "1961-01-04  1.79  11.75   6.619167  3.198126\n",
       "1961-01-05  6.17  13.33  10.630000  2.445356\n",
       "...          ...    ...        ...       ...\n",
       "1978-12-27  8.08  40.08  16.708333  7.868076\n",
       "1978-12-28  5.00  41.46  15.150000  9.687857\n",
       "1978-12-29  8.71  29.58  14.890000  5.756836\n",
       "1978-12-30  9.13  28.79  15.367500  5.540437\n",
       "1978-12-31  9.59  27.29  15.402500  5.702483\n",
       "\n",
       "[6574 rows x 4 columns]"
      ]
     },
     "metadata": {},
     "output_type": "display_data"
    }
   ],
   "source": [
    "day_stats = pd.DataFrame()\n",
    "day_stats['min'] = data.min(axis=1, skipna=True)\n",
    "day_stats['max'] = data.max(axis=1, skipna=True)\n",
    "day_stats['mean'] = data.mean(axis=1, skipna=True)\n",
    "day_stats['std'] = data.std(axis=1, skipna=True)\n",
    "display(day_stats)"
   ]
  },
  {
   "cell_type": "markdown",
   "id": "f4ce76ec",
   "metadata": {},
   "source": [
    "### Step 11"
   ]
  },
  {
   "cell_type": "code",
   "execution_count": 41,
   "id": "06f8d736",
   "metadata": {},
   "outputs": [
    {
     "name": "stdout",
     "output_type": "stream",
     "text": [
      "RPT    14.847325\n",
      "VAL    12.914560\n",
      "ROS    13.299624\n",
      "KIL     7.199498\n",
      "SHA    11.667734\n",
      "BIR     8.054839\n",
      "DUB    11.819355\n",
      "CLA     9.512047\n",
      "MUL     9.543208\n",
      "CLO    10.053566\n",
      "BEL    14.550520\n",
      "MAL    18.028763\n",
      "dtype: float64\n"
     ]
    }
   ],
   "source": [
    "january_data = data[data.index.month == 1]\n",
    "january_mean = january_data.mean()\n",
    "print(january_mean)"
   ]
  },
  {
   "cell_type": "markdown",
   "id": "9c3343eb",
   "metadata": {},
   "source": [
    "### Step 12"
   ]
  },
  {
   "cell_type": "code",
   "execution_count": 31,
   "id": "9a756449",
   "metadata": {},
   "outputs": [],
   "source": [
    "yearly_data = data.resample('A').mean()"
   ]
  },
  {
   "cell_type": "code",
   "execution_count": 43,
   "id": "d9e9cbee",
   "metadata": {},
   "outputs": [
    {
     "data": {
      "text/html": [
       "<div>\n",
       "<style scoped>\n",
       "    .dataframe tbody tr th:only-of-type {\n",
       "        vertical-align: middle;\n",
       "    }\n",
       "\n",
       "    .dataframe tbody tr th {\n",
       "        vertical-align: top;\n",
       "    }\n",
       "\n",
       "    .dataframe thead th {\n",
       "        text-align: right;\n",
       "    }\n",
       "</style>\n",
       "<table border=\"1\" class=\"dataframe\">\n",
       "  <thead>\n",
       "    <tr style=\"text-align: right;\">\n",
       "      <th></th>\n",
       "      <th>RPT</th>\n",
       "      <th>VAL</th>\n",
       "      <th>ROS</th>\n",
       "      <th>KIL</th>\n",
       "      <th>SHA</th>\n",
       "      <th>BIR</th>\n",
       "      <th>DUB</th>\n",
       "      <th>CLA</th>\n",
       "      <th>MUL</th>\n",
       "      <th>CLO</th>\n",
       "      <th>BEL</th>\n",
       "      <th>MAL</th>\n",
       "    </tr>\n",
       "    <tr>\n",
       "      <th>Yr_Mo_Dy</th>\n",
       "      <th></th>\n",
       "      <th></th>\n",
       "      <th></th>\n",
       "      <th></th>\n",
       "      <th></th>\n",
       "      <th></th>\n",
       "      <th></th>\n",
       "      <th></th>\n",
       "      <th></th>\n",
       "      <th></th>\n",
       "      <th></th>\n",
       "      <th></th>\n",
       "    </tr>\n",
       "  </thead>\n",
       "  <tbody>\n",
       "    <tr>\n",
       "      <th>1961-12-31</th>\n",
       "      <td>12.299583</td>\n",
       "      <td>10.351796</td>\n",
       "      <td>11.362369</td>\n",
       "      <td>6.958227</td>\n",
       "      <td>10.881763</td>\n",
       "      <td>7.729726</td>\n",
       "      <td>9.733923</td>\n",
       "      <td>8.858788</td>\n",
       "      <td>8.647652</td>\n",
       "      <td>9.835577</td>\n",
       "      <td>13.502795</td>\n",
       "      <td>13.680773</td>\n",
       "    </tr>\n",
       "    <tr>\n",
       "      <th>1962-12-31</th>\n",
       "      <td>12.246923</td>\n",
       "      <td>10.110438</td>\n",
       "      <td>11.732712</td>\n",
       "      <td>6.960440</td>\n",
       "      <td>10.657918</td>\n",
       "      <td>7.393068</td>\n",
       "      <td>11.020712</td>\n",
       "      <td>8.793753</td>\n",
       "      <td>8.316822</td>\n",
       "      <td>9.676247</td>\n",
       "      <td>12.930685</td>\n",
       "      <td>14.323956</td>\n",
       "    </tr>\n",
       "    <tr>\n",
       "      <th>1963-12-31</th>\n",
       "      <td>12.813452</td>\n",
       "      <td>10.836986</td>\n",
       "      <td>12.541151</td>\n",
       "      <td>7.330055</td>\n",
       "      <td>11.724110</td>\n",
       "      <td>8.434712</td>\n",
       "      <td>11.075699</td>\n",
       "      <td>10.336548</td>\n",
       "      <td>8.903589</td>\n",
       "      <td>10.224438</td>\n",
       "      <td>13.638877</td>\n",
       "      <td>14.999014</td>\n",
       "    </tr>\n",
       "    <tr>\n",
       "      <th>1964-12-31</th>\n",
       "      <td>12.363661</td>\n",
       "      <td>10.920164</td>\n",
       "      <td>12.104372</td>\n",
       "      <td>6.787787</td>\n",
       "      <td>11.454481</td>\n",
       "      <td>7.570874</td>\n",
       "      <td>10.259153</td>\n",
       "      <td>9.467350</td>\n",
       "      <td>7.789016</td>\n",
       "      <td>10.207951</td>\n",
       "      <td>13.740546</td>\n",
       "      <td>14.910301</td>\n",
       "    </tr>\n",
       "    <tr>\n",
       "      <th>1965-12-31</th>\n",
       "      <td>12.451370</td>\n",
       "      <td>11.075534</td>\n",
       "      <td>11.848767</td>\n",
       "      <td>6.858466</td>\n",
       "      <td>11.024795</td>\n",
       "      <td>7.478110</td>\n",
       "      <td>10.618712</td>\n",
       "      <td>8.879918</td>\n",
       "      <td>7.907425</td>\n",
       "      <td>9.918082</td>\n",
       "      <td>12.964247</td>\n",
       "      <td>15.591644</td>\n",
       "    </tr>\n",
       "    <tr>\n",
       "      <th>1966-12-31</th>\n",
       "      <td>13.461973</td>\n",
       "      <td>11.557205</td>\n",
       "      <td>12.020630</td>\n",
       "      <td>7.345726</td>\n",
       "      <td>11.805041</td>\n",
       "      <td>7.793671</td>\n",
       "      <td>10.579808</td>\n",
       "      <td>8.835096</td>\n",
       "      <td>8.514438</td>\n",
       "      <td>9.768959</td>\n",
       "      <td>14.265836</td>\n",
       "      <td>16.307260</td>\n",
       "    </tr>\n",
       "    <tr>\n",
       "      <th>1967-12-31</th>\n",
       "      <td>12.737151</td>\n",
       "      <td>10.990986</td>\n",
       "      <td>11.739397</td>\n",
       "      <td>7.143425</td>\n",
       "      <td>11.630740</td>\n",
       "      <td>7.368164</td>\n",
       "      <td>10.652027</td>\n",
       "      <td>9.325616</td>\n",
       "      <td>8.645014</td>\n",
       "      <td>9.547425</td>\n",
       "      <td>14.774548</td>\n",
       "      <td>17.135945</td>\n",
       "    </tr>\n",
       "    <tr>\n",
       "      <th>1968-12-31</th>\n",
       "      <td>11.835628</td>\n",
       "      <td>10.468197</td>\n",
       "      <td>11.409754</td>\n",
       "      <td>6.477678</td>\n",
       "      <td>10.760765</td>\n",
       "      <td>6.067322</td>\n",
       "      <td>8.859180</td>\n",
       "      <td>8.255519</td>\n",
       "      <td>7.224945</td>\n",
       "      <td>7.832978</td>\n",
       "      <td>12.808634</td>\n",
       "      <td>15.017486</td>\n",
       "    </tr>\n",
       "    <tr>\n",
       "      <th>1969-12-31</th>\n",
       "      <td>11.166356</td>\n",
       "      <td>9.723699</td>\n",
       "      <td>10.902000</td>\n",
       "      <td>5.767973</td>\n",
       "      <td>9.873918</td>\n",
       "      <td>6.189973</td>\n",
       "      <td>8.564493</td>\n",
       "      <td>7.711397</td>\n",
       "      <td>7.924521</td>\n",
       "      <td>7.754384</td>\n",
       "      <td>12.621233</td>\n",
       "      <td>15.762904</td>\n",
       "    </tr>\n",
       "    <tr>\n",
       "      <th>1970-12-31</th>\n",
       "      <td>12.600329</td>\n",
       "      <td>10.726932</td>\n",
       "      <td>11.730247</td>\n",
       "      <td>6.217178</td>\n",
       "      <td>10.567370</td>\n",
       "      <td>7.609452</td>\n",
       "      <td>9.609890</td>\n",
       "      <td>8.334630</td>\n",
       "      <td>9.297616</td>\n",
       "      <td>8.289808</td>\n",
       "      <td>13.183644</td>\n",
       "      <td>16.456027</td>\n",
       "    </tr>\n",
       "    <tr>\n",
       "      <th>1971-12-31</th>\n",
       "      <td>11.273123</td>\n",
       "      <td>9.095178</td>\n",
       "      <td>11.088329</td>\n",
       "      <td>5.241507</td>\n",
       "      <td>9.440329</td>\n",
       "      <td>6.097151</td>\n",
       "      <td>8.385890</td>\n",
       "      <td>6.757315</td>\n",
       "      <td>7.915370</td>\n",
       "      <td>7.229753</td>\n",
       "      <td>12.208932</td>\n",
       "      <td>15.025233</td>\n",
       "    </tr>\n",
       "    <tr>\n",
       "      <th>1972-12-31</th>\n",
       "      <td>12.463962</td>\n",
       "      <td>10.561311</td>\n",
       "      <td>12.058333</td>\n",
       "      <td>5.929699</td>\n",
       "      <td>9.430410</td>\n",
       "      <td>6.358825</td>\n",
       "      <td>9.704508</td>\n",
       "      <td>7.680792</td>\n",
       "      <td>8.357295</td>\n",
       "      <td>7.515273</td>\n",
       "      <td>12.727377</td>\n",
       "      <td>15.028716</td>\n",
       "    </tr>\n",
       "    <tr>\n",
       "      <th>1973-12-31</th>\n",
       "      <td>11.828466</td>\n",
       "      <td>10.680493</td>\n",
       "      <td>10.680493</td>\n",
       "      <td>5.547863</td>\n",
       "      <td>9.640877</td>\n",
       "      <td>6.548740</td>\n",
       "      <td>8.482110</td>\n",
       "      <td>7.614274</td>\n",
       "      <td>8.245534</td>\n",
       "      <td>7.812411</td>\n",
       "      <td>12.169699</td>\n",
       "      <td>15.441096</td>\n",
       "    </tr>\n",
       "    <tr>\n",
       "      <th>1974-12-31</th>\n",
       "      <td>13.643096</td>\n",
       "      <td>11.811781</td>\n",
       "      <td>12.336356</td>\n",
       "      <td>6.427041</td>\n",
       "      <td>11.110986</td>\n",
       "      <td>6.809781</td>\n",
       "      <td>10.084603</td>\n",
       "      <td>9.896986</td>\n",
       "      <td>9.331753</td>\n",
       "      <td>8.736356</td>\n",
       "      <td>13.252959</td>\n",
       "      <td>16.947671</td>\n",
       "    </tr>\n",
       "    <tr>\n",
       "      <th>1975-12-31</th>\n",
       "      <td>12.008575</td>\n",
       "      <td>10.293836</td>\n",
       "      <td>11.564712</td>\n",
       "      <td>5.269096</td>\n",
       "      <td>9.190082</td>\n",
       "      <td>5.668521</td>\n",
       "      <td>8.562603</td>\n",
       "      <td>7.843836</td>\n",
       "      <td>8.797945</td>\n",
       "      <td>7.382822</td>\n",
       "      <td>12.631671</td>\n",
       "      <td>15.307863</td>\n",
       "    </tr>\n",
       "    <tr>\n",
       "      <th>1976-12-31</th>\n",
       "      <td>11.737842</td>\n",
       "      <td>10.203115</td>\n",
       "      <td>10.761230</td>\n",
       "      <td>5.109426</td>\n",
       "      <td>8.846339</td>\n",
       "      <td>6.311038</td>\n",
       "      <td>9.149126</td>\n",
       "      <td>7.146202</td>\n",
       "      <td>8.883716</td>\n",
       "      <td>7.883087</td>\n",
       "      <td>12.332377</td>\n",
       "      <td>15.471448</td>\n",
       "    </tr>\n",
       "    <tr>\n",
       "      <th>1977-12-31</th>\n",
       "      <td>13.099616</td>\n",
       "      <td>11.144493</td>\n",
       "      <td>12.627836</td>\n",
       "      <td>6.073945</td>\n",
       "      <td>10.003836</td>\n",
       "      <td>8.586438</td>\n",
       "      <td>11.523205</td>\n",
       "      <td>8.378384</td>\n",
       "      <td>9.098192</td>\n",
       "      <td>8.821616</td>\n",
       "      <td>13.459068</td>\n",
       "      <td>16.590849</td>\n",
       "    </tr>\n",
       "    <tr>\n",
       "      <th>1978-12-31</th>\n",
       "      <td>12.504356</td>\n",
       "      <td>11.044274</td>\n",
       "      <td>11.380000</td>\n",
       "      <td>6.082356</td>\n",
       "      <td>10.167233</td>\n",
       "      <td>7.650658</td>\n",
       "      <td>9.489342</td>\n",
       "      <td>8.800466</td>\n",
       "      <td>9.089753</td>\n",
       "      <td>8.301699</td>\n",
       "      <td>12.967397</td>\n",
       "      <td>16.771370</td>\n",
       "    </tr>\n",
       "  </tbody>\n",
       "</table>\n",
       "</div>"
      ],
      "text/plain": [
       "                  RPT        VAL        ROS       KIL        SHA       BIR  \\\n",
       "Yr_Mo_Dy                                                                     \n",
       "1961-12-31  12.299583  10.351796  11.362369  6.958227  10.881763  7.729726   \n",
       "1962-12-31  12.246923  10.110438  11.732712  6.960440  10.657918  7.393068   \n",
       "1963-12-31  12.813452  10.836986  12.541151  7.330055  11.724110  8.434712   \n",
       "1964-12-31  12.363661  10.920164  12.104372  6.787787  11.454481  7.570874   \n",
       "1965-12-31  12.451370  11.075534  11.848767  6.858466  11.024795  7.478110   \n",
       "1966-12-31  13.461973  11.557205  12.020630  7.345726  11.805041  7.793671   \n",
       "1967-12-31  12.737151  10.990986  11.739397  7.143425  11.630740  7.368164   \n",
       "1968-12-31  11.835628  10.468197  11.409754  6.477678  10.760765  6.067322   \n",
       "1969-12-31  11.166356   9.723699  10.902000  5.767973   9.873918  6.189973   \n",
       "1970-12-31  12.600329  10.726932  11.730247  6.217178  10.567370  7.609452   \n",
       "1971-12-31  11.273123   9.095178  11.088329  5.241507   9.440329  6.097151   \n",
       "1972-12-31  12.463962  10.561311  12.058333  5.929699   9.430410  6.358825   \n",
       "1973-12-31  11.828466  10.680493  10.680493  5.547863   9.640877  6.548740   \n",
       "1974-12-31  13.643096  11.811781  12.336356  6.427041  11.110986  6.809781   \n",
       "1975-12-31  12.008575  10.293836  11.564712  5.269096   9.190082  5.668521   \n",
       "1976-12-31  11.737842  10.203115  10.761230  5.109426   8.846339  6.311038   \n",
       "1977-12-31  13.099616  11.144493  12.627836  6.073945  10.003836  8.586438   \n",
       "1978-12-31  12.504356  11.044274  11.380000  6.082356  10.167233  7.650658   \n",
       "\n",
       "                  DUB        CLA       MUL        CLO        BEL        MAL  \n",
       "Yr_Mo_Dy                                                                     \n",
       "1961-12-31   9.733923   8.858788  8.647652   9.835577  13.502795  13.680773  \n",
       "1962-12-31  11.020712   8.793753  8.316822   9.676247  12.930685  14.323956  \n",
       "1963-12-31  11.075699  10.336548  8.903589  10.224438  13.638877  14.999014  \n",
       "1964-12-31  10.259153   9.467350  7.789016  10.207951  13.740546  14.910301  \n",
       "1965-12-31  10.618712   8.879918  7.907425   9.918082  12.964247  15.591644  \n",
       "1966-12-31  10.579808   8.835096  8.514438   9.768959  14.265836  16.307260  \n",
       "1967-12-31  10.652027   9.325616  8.645014   9.547425  14.774548  17.135945  \n",
       "1968-12-31   8.859180   8.255519  7.224945   7.832978  12.808634  15.017486  \n",
       "1969-12-31   8.564493   7.711397  7.924521   7.754384  12.621233  15.762904  \n",
       "1970-12-31   9.609890   8.334630  9.297616   8.289808  13.183644  16.456027  \n",
       "1971-12-31   8.385890   6.757315  7.915370   7.229753  12.208932  15.025233  \n",
       "1972-12-31   9.704508   7.680792  8.357295   7.515273  12.727377  15.028716  \n",
       "1973-12-31   8.482110   7.614274  8.245534   7.812411  12.169699  15.441096  \n",
       "1974-12-31  10.084603   9.896986  9.331753   8.736356  13.252959  16.947671  \n",
       "1975-12-31   8.562603   7.843836  8.797945   7.382822  12.631671  15.307863  \n",
       "1976-12-31   9.149126   7.146202  8.883716   7.883087  12.332377  15.471448  \n",
       "1977-12-31  11.523205   8.378384  9.098192   8.821616  13.459068  16.590849  \n",
       "1978-12-31   9.489342   8.800466  9.089753   8.301699  12.967397  16.771370  "
      ]
     },
     "metadata": {},
     "output_type": "display_data"
    }
   ],
   "source": [
    "display(yearly_data)"
   ]
  },
  {
   "cell_type": "markdown",
   "id": "006c614d",
   "metadata": {},
   "source": [
    "### Step 13"
   ]
  },
  {
   "cell_type": "code",
   "execution_count": 32,
   "id": "f8459535",
   "metadata": {},
   "outputs": [],
   "source": [
    "monthly_data = data.resample('M').mean()"
   ]
  },
  {
   "cell_type": "code",
   "execution_count": 44,
   "id": "8abdd36a",
   "metadata": {},
   "outputs": [
    {
     "data": {
      "text/html": [
       "<div>\n",
       "<style scoped>\n",
       "    .dataframe tbody tr th:only-of-type {\n",
       "        vertical-align: middle;\n",
       "    }\n",
       "\n",
       "    .dataframe tbody tr th {\n",
       "        vertical-align: top;\n",
       "    }\n",
       "\n",
       "    .dataframe thead th {\n",
       "        text-align: right;\n",
       "    }\n",
       "</style>\n",
       "<table border=\"1\" class=\"dataframe\">\n",
       "  <thead>\n",
       "    <tr style=\"text-align: right;\">\n",
       "      <th></th>\n",
       "      <th>RPT</th>\n",
       "      <th>VAL</th>\n",
       "      <th>ROS</th>\n",
       "      <th>KIL</th>\n",
       "      <th>SHA</th>\n",
       "      <th>BIR</th>\n",
       "      <th>DUB</th>\n",
       "      <th>CLA</th>\n",
       "      <th>MUL</th>\n",
       "      <th>CLO</th>\n",
       "      <th>BEL</th>\n",
       "      <th>MAL</th>\n",
       "    </tr>\n",
       "    <tr>\n",
       "      <th>Yr_Mo_Dy</th>\n",
       "      <th></th>\n",
       "      <th></th>\n",
       "      <th></th>\n",
       "      <th></th>\n",
       "      <th></th>\n",
       "      <th></th>\n",
       "      <th></th>\n",
       "      <th></th>\n",
       "      <th></th>\n",
       "      <th></th>\n",
       "      <th></th>\n",
       "      <th></th>\n",
       "    </tr>\n",
       "  </thead>\n",
       "  <tbody>\n",
       "    <tr>\n",
       "      <th>1961-01-31</th>\n",
       "      <td>14.841333</td>\n",
       "      <td>11.988333</td>\n",
       "      <td>13.431613</td>\n",
       "      <td>7.736774</td>\n",
       "      <td>11.072759</td>\n",
       "      <td>8.588065</td>\n",
       "      <td>11.184839</td>\n",
       "      <td>9.245333</td>\n",
       "      <td>9.085806</td>\n",
       "      <td>10.107419</td>\n",
       "      <td>13.880968</td>\n",
       "      <td>14.703226</td>\n",
       "    </tr>\n",
       "    <tr>\n",
       "      <th>1961-02-28</th>\n",
       "      <td>16.269286</td>\n",
       "      <td>14.975357</td>\n",
       "      <td>14.441481</td>\n",
       "      <td>9.230741</td>\n",
       "      <td>13.852143</td>\n",
       "      <td>10.937500</td>\n",
       "      <td>11.890714</td>\n",
       "      <td>11.846071</td>\n",
       "      <td>11.821429</td>\n",
       "      <td>12.714286</td>\n",
       "      <td>18.583214</td>\n",
       "      <td>15.411786</td>\n",
       "    </tr>\n",
       "    <tr>\n",
       "      <th>1961-03-31</th>\n",
       "      <td>10.890000</td>\n",
       "      <td>11.296452</td>\n",
       "      <td>10.752903</td>\n",
       "      <td>7.284000</td>\n",
       "      <td>10.509355</td>\n",
       "      <td>8.866774</td>\n",
       "      <td>9.644194</td>\n",
       "      <td>9.829677</td>\n",
       "      <td>10.294138</td>\n",
       "      <td>11.251935</td>\n",
       "      <td>16.410968</td>\n",
       "      <td>15.720000</td>\n",
       "    </tr>\n",
       "    <tr>\n",
       "      <th>1961-04-30</th>\n",
       "      <td>10.722667</td>\n",
       "      <td>9.427667</td>\n",
       "      <td>9.998000</td>\n",
       "      <td>5.830667</td>\n",
       "      <td>8.435000</td>\n",
       "      <td>6.495000</td>\n",
       "      <td>6.925333</td>\n",
       "      <td>7.094667</td>\n",
       "      <td>7.342333</td>\n",
       "      <td>7.237000</td>\n",
       "      <td>11.147333</td>\n",
       "      <td>10.278333</td>\n",
       "    </tr>\n",
       "    <tr>\n",
       "      <th>1961-05-31</th>\n",
       "      <td>9.860968</td>\n",
       "      <td>8.850000</td>\n",
       "      <td>10.818065</td>\n",
       "      <td>5.905333</td>\n",
       "      <td>9.490323</td>\n",
       "      <td>6.574839</td>\n",
       "      <td>7.604000</td>\n",
       "      <td>8.177097</td>\n",
       "      <td>8.039355</td>\n",
       "      <td>8.499355</td>\n",
       "      <td>11.900323</td>\n",
       "      <td>12.011613</td>\n",
       "    </tr>\n",
       "    <tr>\n",
       "      <th>...</th>\n",
       "      <td>...</td>\n",
       "      <td>...</td>\n",
       "      <td>...</td>\n",
       "      <td>...</td>\n",
       "      <td>...</td>\n",
       "      <td>...</td>\n",
       "      <td>...</td>\n",
       "      <td>...</td>\n",
       "      <td>...</td>\n",
       "      <td>...</td>\n",
       "      <td>...</td>\n",
       "      <td>...</td>\n",
       "    </tr>\n",
       "    <tr>\n",
       "      <th>1978-08-31</th>\n",
       "      <td>9.645161</td>\n",
       "      <td>8.259355</td>\n",
       "      <td>9.032258</td>\n",
       "      <td>4.502903</td>\n",
       "      <td>7.368065</td>\n",
       "      <td>5.935161</td>\n",
       "      <td>5.650323</td>\n",
       "      <td>5.417742</td>\n",
       "      <td>7.241290</td>\n",
       "      <td>5.536774</td>\n",
       "      <td>10.466774</td>\n",
       "      <td>12.054194</td>\n",
       "    </tr>\n",
       "    <tr>\n",
       "      <th>1978-09-30</th>\n",
       "      <td>10.913667</td>\n",
       "      <td>10.895000</td>\n",
       "      <td>10.635000</td>\n",
       "      <td>5.725000</td>\n",
       "      <td>10.372000</td>\n",
       "      <td>9.278333</td>\n",
       "      <td>10.790333</td>\n",
       "      <td>9.583000</td>\n",
       "      <td>10.069333</td>\n",
       "      <td>8.939000</td>\n",
       "      <td>15.680333</td>\n",
       "      <td>19.391333</td>\n",
       "    </tr>\n",
       "    <tr>\n",
       "      <th>1978-10-31</th>\n",
       "      <td>9.897742</td>\n",
       "      <td>8.670968</td>\n",
       "      <td>9.295806</td>\n",
       "      <td>4.721290</td>\n",
       "      <td>8.525161</td>\n",
       "      <td>6.774194</td>\n",
       "      <td>8.115484</td>\n",
       "      <td>7.337742</td>\n",
       "      <td>8.297742</td>\n",
       "      <td>8.243871</td>\n",
       "      <td>13.776774</td>\n",
       "      <td>17.150000</td>\n",
       "    </tr>\n",
       "    <tr>\n",
       "      <th>1978-11-30</th>\n",
       "      <td>16.151667</td>\n",
       "      <td>14.802667</td>\n",
       "      <td>13.508000</td>\n",
       "      <td>7.317333</td>\n",
       "      <td>11.475000</td>\n",
       "      <td>8.743000</td>\n",
       "      <td>11.492333</td>\n",
       "      <td>9.657333</td>\n",
       "      <td>10.701333</td>\n",
       "      <td>10.676000</td>\n",
       "      <td>17.404667</td>\n",
       "      <td>20.723000</td>\n",
       "    </tr>\n",
       "    <tr>\n",
       "      <th>1978-12-31</th>\n",
       "      <td>16.175484</td>\n",
       "      <td>13.748065</td>\n",
       "      <td>15.635161</td>\n",
       "      <td>7.094839</td>\n",
       "      <td>11.398710</td>\n",
       "      <td>9.241613</td>\n",
       "      <td>12.077419</td>\n",
       "      <td>10.194839</td>\n",
       "      <td>10.616774</td>\n",
       "      <td>11.028710</td>\n",
       "      <td>13.859677</td>\n",
       "      <td>21.371613</td>\n",
       "    </tr>\n",
       "  </tbody>\n",
       "</table>\n",
       "<p>216 rows × 12 columns</p>\n",
       "</div>"
      ],
      "text/plain": [
       "                  RPT        VAL        ROS       KIL        SHA        BIR  \\\n",
       "Yr_Mo_Dy                                                                      \n",
       "1961-01-31  14.841333  11.988333  13.431613  7.736774  11.072759   8.588065   \n",
       "1961-02-28  16.269286  14.975357  14.441481  9.230741  13.852143  10.937500   \n",
       "1961-03-31  10.890000  11.296452  10.752903  7.284000  10.509355   8.866774   \n",
       "1961-04-30  10.722667   9.427667   9.998000  5.830667   8.435000   6.495000   \n",
       "1961-05-31   9.860968   8.850000  10.818065  5.905333   9.490323   6.574839   \n",
       "...               ...        ...        ...       ...        ...        ...   \n",
       "1978-08-31   9.645161   8.259355   9.032258  4.502903   7.368065   5.935161   \n",
       "1978-09-30  10.913667  10.895000  10.635000  5.725000  10.372000   9.278333   \n",
       "1978-10-31   9.897742   8.670968   9.295806  4.721290   8.525161   6.774194   \n",
       "1978-11-30  16.151667  14.802667  13.508000  7.317333  11.475000   8.743000   \n",
       "1978-12-31  16.175484  13.748065  15.635161  7.094839  11.398710   9.241613   \n",
       "\n",
       "                  DUB        CLA        MUL        CLO        BEL        MAL  \n",
       "Yr_Mo_Dy                                                                      \n",
       "1961-01-31  11.184839   9.245333   9.085806  10.107419  13.880968  14.703226  \n",
       "1961-02-28  11.890714  11.846071  11.821429  12.714286  18.583214  15.411786  \n",
       "1961-03-31   9.644194   9.829677  10.294138  11.251935  16.410968  15.720000  \n",
       "1961-04-30   6.925333   7.094667   7.342333   7.237000  11.147333  10.278333  \n",
       "1961-05-31   7.604000   8.177097   8.039355   8.499355  11.900323  12.011613  \n",
       "...               ...        ...        ...        ...        ...        ...  \n",
       "1978-08-31   5.650323   5.417742   7.241290   5.536774  10.466774  12.054194  \n",
       "1978-09-30  10.790333   9.583000  10.069333   8.939000  15.680333  19.391333  \n",
       "1978-10-31   8.115484   7.337742   8.297742   8.243871  13.776774  17.150000  \n",
       "1978-11-30  11.492333   9.657333  10.701333  10.676000  17.404667  20.723000  \n",
       "1978-12-31  12.077419  10.194839  10.616774  11.028710  13.859677  21.371613  \n",
       "\n",
       "[216 rows x 12 columns]"
      ]
     },
     "metadata": {},
     "output_type": "display_data"
    }
   ],
   "source": [
    "display(monthly_data)"
   ]
  },
  {
   "cell_type": "markdown",
   "id": "e096d463",
   "metadata": {},
   "source": [
    "### Step 14"
   ]
  },
  {
   "cell_type": "code",
   "execution_count": 33,
   "id": "3d0a8b5f",
   "metadata": {},
   "outputs": [],
   "source": [
    "weekly_data = data.resample('W').mean()"
   ]
  },
  {
   "cell_type": "code",
   "execution_count": 45,
   "id": "3afea193",
   "metadata": {},
   "outputs": [
    {
     "data": {
      "text/html": [
       "<div>\n",
       "<style scoped>\n",
       "    .dataframe tbody tr th:only-of-type {\n",
       "        vertical-align: middle;\n",
       "    }\n",
       "\n",
       "    .dataframe tbody tr th {\n",
       "        vertical-align: top;\n",
       "    }\n",
       "\n",
       "    .dataframe thead th {\n",
       "        text-align: right;\n",
       "    }\n",
       "</style>\n",
       "<table border=\"1\" class=\"dataframe\">\n",
       "  <thead>\n",
       "    <tr style=\"text-align: right;\">\n",
       "      <th></th>\n",
       "      <th>RPT</th>\n",
       "      <th>VAL</th>\n",
       "      <th>ROS</th>\n",
       "      <th>KIL</th>\n",
       "      <th>SHA</th>\n",
       "      <th>BIR</th>\n",
       "      <th>DUB</th>\n",
       "      <th>CLA</th>\n",
       "      <th>MUL</th>\n",
       "      <th>CLO</th>\n",
       "      <th>BEL</th>\n",
       "      <th>MAL</th>\n",
       "    </tr>\n",
       "    <tr>\n",
       "      <th>Yr_Mo_Dy</th>\n",
       "      <th></th>\n",
       "      <th></th>\n",
       "      <th></th>\n",
       "      <th></th>\n",
       "      <th></th>\n",
       "      <th></th>\n",
       "      <th></th>\n",
       "      <th></th>\n",
       "      <th></th>\n",
       "      <th></th>\n",
       "      <th></th>\n",
       "      <th></th>\n",
       "    </tr>\n",
       "  </thead>\n",
       "  <tbody>\n",
       "    <tr>\n",
       "      <th>1961-01-01</th>\n",
       "      <td>15.040000</td>\n",
       "      <td>14.960000</td>\n",
       "      <td>13.170000</td>\n",
       "      <td>9.290000</td>\n",
       "      <td>NaN</td>\n",
       "      <td>9.870000</td>\n",
       "      <td>13.670000</td>\n",
       "      <td>10.250000</td>\n",
       "      <td>10.830000</td>\n",
       "      <td>12.580000</td>\n",
       "      <td>18.500000</td>\n",
       "      <td>15.040000</td>\n",
       "    </tr>\n",
       "    <tr>\n",
       "      <th>1961-01-08</th>\n",
       "      <td>13.541429</td>\n",
       "      <td>11.486667</td>\n",
       "      <td>10.487143</td>\n",
       "      <td>6.417143</td>\n",
       "      <td>9.474286</td>\n",
       "      <td>6.435714</td>\n",
       "      <td>11.061429</td>\n",
       "      <td>6.616667</td>\n",
       "      <td>8.434286</td>\n",
       "      <td>8.497143</td>\n",
       "      <td>12.481429</td>\n",
       "      <td>13.238571</td>\n",
       "    </tr>\n",
       "    <tr>\n",
       "      <th>1961-01-15</th>\n",
       "      <td>12.468571</td>\n",
       "      <td>8.967143</td>\n",
       "      <td>11.958571</td>\n",
       "      <td>4.630000</td>\n",
       "      <td>7.351429</td>\n",
       "      <td>5.072857</td>\n",
       "      <td>7.535714</td>\n",
       "      <td>6.820000</td>\n",
       "      <td>5.712857</td>\n",
       "      <td>7.571429</td>\n",
       "      <td>11.125714</td>\n",
       "      <td>11.024286</td>\n",
       "    </tr>\n",
       "    <tr>\n",
       "      <th>1961-01-22</th>\n",
       "      <td>13.204286</td>\n",
       "      <td>9.862857</td>\n",
       "      <td>12.982857</td>\n",
       "      <td>6.328571</td>\n",
       "      <td>8.966667</td>\n",
       "      <td>7.417143</td>\n",
       "      <td>9.257143</td>\n",
       "      <td>7.875714</td>\n",
       "      <td>7.145714</td>\n",
       "      <td>8.124286</td>\n",
       "      <td>9.821429</td>\n",
       "      <td>11.434286</td>\n",
       "    </tr>\n",
       "    <tr>\n",
       "      <th>1961-01-29</th>\n",
       "      <td>19.880000</td>\n",
       "      <td>16.141429</td>\n",
       "      <td>18.225714</td>\n",
       "      <td>12.720000</td>\n",
       "      <td>17.432857</td>\n",
       "      <td>14.828571</td>\n",
       "      <td>15.528571</td>\n",
       "      <td>15.160000</td>\n",
       "      <td>14.480000</td>\n",
       "      <td>15.640000</td>\n",
       "      <td>20.930000</td>\n",
       "      <td>22.530000</td>\n",
       "    </tr>\n",
       "    <tr>\n",
       "      <th>...</th>\n",
       "      <td>...</td>\n",
       "      <td>...</td>\n",
       "      <td>...</td>\n",
       "      <td>...</td>\n",
       "      <td>...</td>\n",
       "      <td>...</td>\n",
       "      <td>...</td>\n",
       "      <td>...</td>\n",
       "      <td>...</td>\n",
       "      <td>...</td>\n",
       "      <td>...</td>\n",
       "      <td>...</td>\n",
       "    </tr>\n",
       "    <tr>\n",
       "      <th>1978-12-03</th>\n",
       "      <td>14.934286</td>\n",
       "      <td>11.232857</td>\n",
       "      <td>13.941429</td>\n",
       "      <td>5.565714</td>\n",
       "      <td>10.215714</td>\n",
       "      <td>8.618571</td>\n",
       "      <td>9.642857</td>\n",
       "      <td>7.685714</td>\n",
       "      <td>9.011429</td>\n",
       "      <td>9.547143</td>\n",
       "      <td>11.835714</td>\n",
       "      <td>18.728571</td>\n",
       "    </tr>\n",
       "    <tr>\n",
       "      <th>1978-12-10</th>\n",
       "      <td>20.740000</td>\n",
       "      <td>19.190000</td>\n",
       "      <td>17.034286</td>\n",
       "      <td>9.777143</td>\n",
       "      <td>15.287143</td>\n",
       "      <td>12.774286</td>\n",
       "      <td>14.437143</td>\n",
       "      <td>12.488571</td>\n",
       "      <td>13.870000</td>\n",
       "      <td>14.082857</td>\n",
       "      <td>18.517143</td>\n",
       "      <td>23.061429</td>\n",
       "    </tr>\n",
       "    <tr>\n",
       "      <th>1978-12-17</th>\n",
       "      <td>16.758571</td>\n",
       "      <td>14.692857</td>\n",
       "      <td>14.987143</td>\n",
       "      <td>6.917143</td>\n",
       "      <td>11.397143</td>\n",
       "      <td>7.272857</td>\n",
       "      <td>10.208571</td>\n",
       "      <td>7.967143</td>\n",
       "      <td>9.168571</td>\n",
       "      <td>8.565714</td>\n",
       "      <td>11.102857</td>\n",
       "      <td>15.562857</td>\n",
       "    </tr>\n",
       "    <tr>\n",
       "      <th>1978-12-24</th>\n",
       "      <td>11.155714</td>\n",
       "      <td>8.008571</td>\n",
       "      <td>13.172857</td>\n",
       "      <td>4.004286</td>\n",
       "      <td>7.825714</td>\n",
       "      <td>6.290000</td>\n",
       "      <td>7.798571</td>\n",
       "      <td>8.667143</td>\n",
       "      <td>7.151429</td>\n",
       "      <td>8.072857</td>\n",
       "      <td>11.845714</td>\n",
       "      <td>18.977143</td>\n",
       "    </tr>\n",
       "    <tr>\n",
       "      <th>1978-12-31</th>\n",
       "      <td>14.951429</td>\n",
       "      <td>11.801429</td>\n",
       "      <td>16.035714</td>\n",
       "      <td>6.507143</td>\n",
       "      <td>9.660000</td>\n",
       "      <td>8.620000</td>\n",
       "      <td>13.708571</td>\n",
       "      <td>10.477143</td>\n",
       "      <td>10.868571</td>\n",
       "      <td>11.471429</td>\n",
       "      <td>12.947143</td>\n",
       "      <td>26.844286</td>\n",
       "    </tr>\n",
       "  </tbody>\n",
       "</table>\n",
       "<p>940 rows × 12 columns</p>\n",
       "</div>"
      ],
      "text/plain": [
       "                  RPT        VAL        ROS        KIL        SHA        BIR  \\\n",
       "Yr_Mo_Dy                                                                       \n",
       "1961-01-01  15.040000  14.960000  13.170000   9.290000        NaN   9.870000   \n",
       "1961-01-08  13.541429  11.486667  10.487143   6.417143   9.474286   6.435714   \n",
       "1961-01-15  12.468571   8.967143  11.958571   4.630000   7.351429   5.072857   \n",
       "1961-01-22  13.204286   9.862857  12.982857   6.328571   8.966667   7.417143   \n",
       "1961-01-29  19.880000  16.141429  18.225714  12.720000  17.432857  14.828571   \n",
       "...               ...        ...        ...        ...        ...        ...   \n",
       "1978-12-03  14.934286  11.232857  13.941429   5.565714  10.215714   8.618571   \n",
       "1978-12-10  20.740000  19.190000  17.034286   9.777143  15.287143  12.774286   \n",
       "1978-12-17  16.758571  14.692857  14.987143   6.917143  11.397143   7.272857   \n",
       "1978-12-24  11.155714   8.008571  13.172857   4.004286   7.825714   6.290000   \n",
       "1978-12-31  14.951429  11.801429  16.035714   6.507143   9.660000   8.620000   \n",
       "\n",
       "                  DUB        CLA        MUL        CLO        BEL        MAL  \n",
       "Yr_Mo_Dy                                                                      \n",
       "1961-01-01  13.670000  10.250000  10.830000  12.580000  18.500000  15.040000  \n",
       "1961-01-08  11.061429   6.616667   8.434286   8.497143  12.481429  13.238571  \n",
       "1961-01-15   7.535714   6.820000   5.712857   7.571429  11.125714  11.024286  \n",
       "1961-01-22   9.257143   7.875714   7.145714   8.124286   9.821429  11.434286  \n",
       "1961-01-29  15.528571  15.160000  14.480000  15.640000  20.930000  22.530000  \n",
       "...               ...        ...        ...        ...        ...        ...  \n",
       "1978-12-03   9.642857   7.685714   9.011429   9.547143  11.835714  18.728571  \n",
       "1978-12-10  14.437143  12.488571  13.870000  14.082857  18.517143  23.061429  \n",
       "1978-12-17  10.208571   7.967143   9.168571   8.565714  11.102857  15.562857  \n",
       "1978-12-24   7.798571   8.667143   7.151429   8.072857  11.845714  18.977143  \n",
       "1978-12-31  13.708571  10.477143  10.868571  11.471429  12.947143  26.844286  \n",
       "\n",
       "[940 rows x 12 columns]"
      ]
     },
     "metadata": {},
     "output_type": "display_data"
    }
   ],
   "source": [
    "display(weekly_data)"
   ]
  },
  {
   "cell_type": "markdown",
   "id": "493075be",
   "metadata": {},
   "source": [
    "### Step 15"
   ]
  },
  {
   "cell_type": "code",
   "execution_count": 35,
   "id": "2580d778",
   "metadata": {},
   "outputs": [],
   "source": [
    "weekly_stats = pd.DataFrame()\n",
    "weekly_stats['min'] = weekly_data.min(axis=1, skipna=True)\n",
    "weekly_stats['max'] = weekly_data.max(axis=1, skipna=True)\n",
    "weekly_stats['mean'] = weekly_data.mean(axis=1, skipna=True)\n",
    "weekly_stats['std'] = weekly_data.std(axis=1, skipna=True)"
   ]
  },
  {
   "cell_type": "code",
   "execution_count": 46,
   "id": "7121389a",
   "metadata": {},
   "outputs": [
    {
     "data": {
      "text/html": [
       "<div>\n",
       "<style scoped>\n",
       "    .dataframe tbody tr th:only-of-type {\n",
       "        vertical-align: middle;\n",
       "    }\n",
       "\n",
       "    .dataframe tbody tr th {\n",
       "        vertical-align: top;\n",
       "    }\n",
       "\n",
       "    .dataframe thead th {\n",
       "        text-align: right;\n",
       "    }\n",
       "</style>\n",
       "<table border=\"1\" class=\"dataframe\">\n",
       "  <thead>\n",
       "    <tr style=\"text-align: right;\">\n",
       "      <th></th>\n",
       "      <th>min</th>\n",
       "      <th>max</th>\n",
       "      <th>mean</th>\n",
       "      <th>std</th>\n",
       "    </tr>\n",
       "    <tr>\n",
       "      <th>Yr_Mo_Dy</th>\n",
       "      <th></th>\n",
       "      <th></th>\n",
       "      <th></th>\n",
       "      <th></th>\n",
       "    </tr>\n",
       "  </thead>\n",
       "  <tbody>\n",
       "    <tr>\n",
       "      <th>1961-01-01</th>\n",
       "      <td>9.290000</td>\n",
       "      <td>18.500000</td>\n",
       "      <td>13.018182</td>\n",
       "      <td>2.808875</td>\n",
       "    </tr>\n",
       "    <tr>\n",
       "      <th>1961-01-08</th>\n",
       "      <td>6.417143</td>\n",
       "      <td>13.541429</td>\n",
       "      <td>9.847659</td>\n",
       "      <td>2.601705</td>\n",
       "    </tr>\n",
       "    <tr>\n",
       "      <th>1961-01-15</th>\n",
       "      <td>4.630000</td>\n",
       "      <td>12.468571</td>\n",
       "      <td>8.353214</td>\n",
       "      <td>2.719649</td>\n",
       "    </tr>\n",
       "    <tr>\n",
       "      <th>1961-01-22</th>\n",
       "      <td>6.328571</td>\n",
       "      <td>13.204286</td>\n",
       "      <td>9.368413</td>\n",
       "      <td>2.224531</td>\n",
       "    </tr>\n",
       "    <tr>\n",
       "      <th>1961-01-29</th>\n",
       "      <td>12.720000</td>\n",
       "      <td>22.530000</td>\n",
       "      <td>16.958095</td>\n",
       "      <td>2.915635</td>\n",
       "    </tr>\n",
       "    <tr>\n",
       "      <th>...</th>\n",
       "      <td>...</td>\n",
       "      <td>...</td>\n",
       "      <td>...</td>\n",
       "      <td>...</td>\n",
       "    </tr>\n",
       "    <tr>\n",
       "      <th>1978-12-03</th>\n",
       "      <td>5.565714</td>\n",
       "      <td>18.728571</td>\n",
       "      <td>10.913333</td>\n",
       "      <td>3.557747</td>\n",
       "    </tr>\n",
       "    <tr>\n",
       "      <th>1978-12-10</th>\n",
       "      <td>9.777143</td>\n",
       "      <td>23.061429</td>\n",
       "      <td>15.938333</td>\n",
       "      <td>3.843412</td>\n",
       "    </tr>\n",
       "    <tr>\n",
       "      <th>1978-12-17</th>\n",
       "      <td>6.917143</td>\n",
       "      <td>16.758571</td>\n",
       "      <td>11.216786</td>\n",
       "      <td>3.474393</td>\n",
       "    </tr>\n",
       "    <tr>\n",
       "      <th>1978-12-24</th>\n",
       "      <td>4.004286</td>\n",
       "      <td>18.977143</td>\n",
       "      <td>9.414167</td>\n",
       "      <td>3.909628</td>\n",
       "    </tr>\n",
       "    <tr>\n",
       "      <th>1978-12-31</th>\n",
       "      <td>6.507143</td>\n",
       "      <td>26.844286</td>\n",
       "      <td>12.824405</td>\n",
       "      <td>5.152236</td>\n",
       "    </tr>\n",
       "  </tbody>\n",
       "</table>\n",
       "<p>940 rows × 4 columns</p>\n",
       "</div>"
      ],
      "text/plain": [
       "                  min        max       mean       std\n",
       "Yr_Mo_Dy                                             \n",
       "1961-01-01   9.290000  18.500000  13.018182  2.808875\n",
       "1961-01-08   6.417143  13.541429   9.847659  2.601705\n",
       "1961-01-15   4.630000  12.468571   8.353214  2.719649\n",
       "1961-01-22   6.328571  13.204286   9.368413  2.224531\n",
       "1961-01-29  12.720000  22.530000  16.958095  2.915635\n",
       "...               ...        ...        ...       ...\n",
       "1978-12-03   5.565714  18.728571  10.913333  3.557747\n",
       "1978-12-10   9.777143  23.061429  15.938333  3.843412\n",
       "1978-12-17   6.917143  16.758571  11.216786  3.474393\n",
       "1978-12-24   4.004286  18.977143   9.414167  3.909628\n",
       "1978-12-31   6.507143  26.844286  12.824405  5.152236\n",
       "\n",
       "[940 rows x 4 columns]"
      ]
     },
     "metadata": {},
     "output_type": "display_data"
    }
   ],
   "source": [
    "display(weekly_stats)"
   ]
  },
  {
   "cell_type": "markdown",
   "id": "4fbf3410",
   "metadata": {},
   "source": [
    "# Question 5"
   ]
  },
  {
   "cell_type": "markdown",
   "id": "0819a0a0",
   "metadata": {},
   "source": [
    "### Step 1"
   ]
  },
  {
   "cell_type": "code",
   "execution_count": 17,
   "id": "24ef4b1f",
   "metadata": {},
   "outputs": [],
   "source": [
    "import pandas as pd"
   ]
  },
  {
   "cell_type": "markdown",
   "id": "30e3e0f6",
   "metadata": {},
   "source": [
    "### Step 2"
   ]
  },
  {
   "cell_type": "code",
   "execution_count": 19,
   "id": "860032b6",
   "metadata": {},
   "outputs": [],
   "source": [
    "url = 'https://raw.githubusercontent.com/justmarkham/DAT8/master/data/chipotle.tsv'\n",
    "chipo = pd.read_csv(url, delimiter='\\t')"
   ]
  },
  {
   "cell_type": "markdown",
   "id": "19dc73b4",
   "metadata": {},
   "source": [
    "### Step 3"
   ]
  },
  {
   "cell_type": "code",
   "execution_count": 20,
   "id": "afce8bb0",
   "metadata": {},
   "outputs": [],
   "source": [
    "chipo = pd.read_csv(url, delimiter='\\t')"
   ]
  },
  {
   "cell_type": "markdown",
   "id": "ac1b3986",
   "metadata": {},
   "source": [
    "### Step 4"
   ]
  },
  {
   "cell_type": "code",
   "execution_count": 21,
   "id": "9c2601d3",
   "metadata": {},
   "outputs": [
    {
     "data": {
      "text/html": [
       "<div>\n",
       "<style scoped>\n",
       "    .dataframe tbody tr th:only-of-type {\n",
       "        vertical-align: middle;\n",
       "    }\n",
       "\n",
       "    .dataframe tbody tr th {\n",
       "        vertical-align: top;\n",
       "    }\n",
       "\n",
       "    .dataframe thead th {\n",
       "        text-align: right;\n",
       "    }\n",
       "</style>\n",
       "<table border=\"1\" class=\"dataframe\">\n",
       "  <thead>\n",
       "    <tr style=\"text-align: right;\">\n",
       "      <th></th>\n",
       "      <th>order_id</th>\n",
       "      <th>quantity</th>\n",
       "      <th>item_name</th>\n",
       "      <th>choice_description</th>\n",
       "      <th>item_price</th>\n",
       "    </tr>\n",
       "  </thead>\n",
       "  <tbody>\n",
       "    <tr>\n",
       "      <th>0</th>\n",
       "      <td>1</td>\n",
       "      <td>1</td>\n",
       "      <td>Chips and Fresh Tomato Salsa</td>\n",
       "      <td>NaN</td>\n",
       "      <td>$2.39</td>\n",
       "    </tr>\n",
       "    <tr>\n",
       "      <th>1</th>\n",
       "      <td>1</td>\n",
       "      <td>1</td>\n",
       "      <td>Izze</td>\n",
       "      <td>[Clementine]</td>\n",
       "      <td>$3.39</td>\n",
       "    </tr>\n",
       "    <tr>\n",
       "      <th>2</th>\n",
       "      <td>1</td>\n",
       "      <td>1</td>\n",
       "      <td>Nantucket Nectar</td>\n",
       "      <td>[Apple]</td>\n",
       "      <td>$3.39</td>\n",
       "    </tr>\n",
       "    <tr>\n",
       "      <th>3</th>\n",
       "      <td>1</td>\n",
       "      <td>1</td>\n",
       "      <td>Chips and Tomatillo-Green Chili Salsa</td>\n",
       "      <td>NaN</td>\n",
       "      <td>$2.39</td>\n",
       "    </tr>\n",
       "    <tr>\n",
       "      <th>4</th>\n",
       "      <td>2</td>\n",
       "      <td>2</td>\n",
       "      <td>Chicken Bowl</td>\n",
       "      <td>[Tomatillo-Red Chili Salsa (Hot), [Black Beans...</td>\n",
       "      <td>$16.98</td>\n",
       "    </tr>\n",
       "    <tr>\n",
       "      <th>5</th>\n",
       "      <td>3</td>\n",
       "      <td>1</td>\n",
       "      <td>Chicken Bowl</td>\n",
       "      <td>[Fresh Tomato Salsa (Mild), [Rice, Cheese, Sou...</td>\n",
       "      <td>$10.98</td>\n",
       "    </tr>\n",
       "    <tr>\n",
       "      <th>6</th>\n",
       "      <td>3</td>\n",
       "      <td>1</td>\n",
       "      <td>Side of Chips</td>\n",
       "      <td>NaN</td>\n",
       "      <td>$1.69</td>\n",
       "    </tr>\n",
       "    <tr>\n",
       "      <th>7</th>\n",
       "      <td>4</td>\n",
       "      <td>1</td>\n",
       "      <td>Steak Burrito</td>\n",
       "      <td>[Tomatillo Red Chili Salsa, [Fajita Vegetables...</td>\n",
       "      <td>$11.75</td>\n",
       "    </tr>\n",
       "    <tr>\n",
       "      <th>8</th>\n",
       "      <td>4</td>\n",
       "      <td>1</td>\n",
       "      <td>Steak Soft Tacos</td>\n",
       "      <td>[Tomatillo Green Chili Salsa, [Pinto Beans, Ch...</td>\n",
       "      <td>$9.25</td>\n",
       "    </tr>\n",
       "    <tr>\n",
       "      <th>9</th>\n",
       "      <td>5</td>\n",
       "      <td>1</td>\n",
       "      <td>Steak Burrito</td>\n",
       "      <td>[Fresh Tomato Salsa, [Rice, Black Beans, Pinto...</td>\n",
       "      <td>$9.25</td>\n",
       "    </tr>\n",
       "  </tbody>\n",
       "</table>\n",
       "</div>"
      ],
      "text/plain": [
       "   order_id  quantity                              item_name  \\\n",
       "0         1         1           Chips and Fresh Tomato Salsa   \n",
       "1         1         1                                   Izze   \n",
       "2         1         1                       Nantucket Nectar   \n",
       "3         1         1  Chips and Tomatillo-Green Chili Salsa   \n",
       "4         2         2                           Chicken Bowl   \n",
       "5         3         1                           Chicken Bowl   \n",
       "6         3         1                          Side of Chips   \n",
       "7         4         1                          Steak Burrito   \n",
       "8         4         1                       Steak Soft Tacos   \n",
       "9         5         1                          Steak Burrito   \n",
       "\n",
       "                                  choice_description item_price  \n",
       "0                                                NaN     $2.39   \n",
       "1                                       [Clementine]     $3.39   \n",
       "2                                            [Apple]     $3.39   \n",
       "3                                                NaN     $2.39   \n",
       "4  [Tomatillo-Red Chili Salsa (Hot), [Black Beans...    $16.98   \n",
       "5  [Fresh Tomato Salsa (Mild), [Rice, Cheese, Sou...    $10.98   \n",
       "6                                                NaN     $1.69   \n",
       "7  [Tomatillo Red Chili Salsa, [Fajita Vegetables...    $11.75   \n",
       "8  [Tomatillo Green Chili Salsa, [Pinto Beans, Ch...     $9.25   \n",
       "9  [Fresh Tomato Salsa, [Rice, Black Beans, Pinto...     $9.25   "
      ]
     },
     "execution_count": 21,
     "metadata": {},
     "output_type": "execute_result"
    }
   ],
   "source": [
    "chipo.head(10)"
   ]
  },
  {
   "cell_type": "markdown",
   "id": "a99aa009",
   "metadata": {},
   "source": [
    "### Step 5"
   ]
  },
  {
   "cell_type": "code",
   "execution_count": 23,
   "id": "fe2d5f8d",
   "metadata": {},
   "outputs": [
    {
     "data": {
      "text/plain": [
       "4622"
      ]
     },
     "execution_count": 23,
     "metadata": {},
     "output_type": "execute_result"
    }
   ],
   "source": [
    "len(chipo)"
   ]
  },
  {
   "cell_type": "markdown",
   "id": "05605656",
   "metadata": {},
   "source": [
    "### Step 6"
   ]
  },
  {
   "cell_type": "code",
   "execution_count": 25,
   "id": "6de440ab",
   "metadata": {},
   "outputs": [
    {
     "data": {
      "text/plain": [
       "5"
      ]
     },
     "execution_count": 25,
     "metadata": {},
     "output_type": "execute_result"
    }
   ],
   "source": [
    "len(chipo.columns)"
   ]
  },
  {
   "cell_type": "markdown",
   "id": "cd6b2727",
   "metadata": {},
   "source": [
    "### Step 7"
   ]
  },
  {
   "cell_type": "code",
   "execution_count": 26,
   "id": "a6f5534a",
   "metadata": {},
   "outputs": [
    {
     "name": "stdout",
     "output_type": "stream",
     "text": [
      "Index(['order_id', 'quantity', 'item_name', 'choice_description',\n",
      "       'item_price'],\n",
      "      dtype='object')\n"
     ]
    }
   ],
   "source": [
    "print(chipo.columns)"
   ]
  },
  {
   "cell_type": "markdown",
   "id": "192465a6",
   "metadata": {},
   "source": [
    "### Step 8"
   ]
  },
  {
   "cell_type": "code",
   "execution_count": 27,
   "id": "5d53ebec",
   "metadata": {},
   "outputs": [
    {
     "data": {
      "text/plain": [
       "RangeIndex(start=0, stop=4622, step=1)"
      ]
     },
     "execution_count": 27,
     "metadata": {},
     "output_type": "execute_result"
    }
   ],
   "source": [
    "chipo.index"
   ]
  },
  {
   "cell_type": "markdown",
   "id": "4b6fc17b",
   "metadata": {},
   "source": [
    "### Step 9"
   ]
  },
  {
   "cell_type": "code",
   "execution_count": 28,
   "id": "77b8d518",
   "metadata": {},
   "outputs": [
    {
     "name": "stdout",
     "output_type": "stream",
     "text": [
      "Chicken Bowl\n"
     ]
    }
   ],
   "source": [
    "most_ordered_item = chipo.groupby('item_name').sum().sort_values(by='quantity', ascending=False).index[0]\n",
    "print(most_ordered_item)"
   ]
  },
  {
   "cell_type": "markdown",
   "id": "aba8475c",
   "metadata": {},
   "source": [
    "### Step 10"
   ]
  },
  {
   "cell_type": "code",
   "execution_count": 29,
   "id": "fa7ebbc5",
   "metadata": {},
   "outputs": [
    {
     "name": "stdout",
     "output_type": "stream",
     "text": [
      "761\n"
     ]
    }
   ],
   "source": [
    "most_ordered_item_quantity = chipo.groupby('item_name').sum().sort_values(by='quantity', ascending=False)['quantity'][most_ordered_item]\n",
    "print(most_ordered_item_quantity)"
   ]
  },
  {
   "cell_type": "markdown",
   "id": "9caf87c5",
   "metadata": {},
   "source": [
    "### Step 11"
   ]
  },
  {
   "cell_type": "code",
   "execution_count": 30,
   "id": "8135314e",
   "metadata": {},
   "outputs": [
    {
     "name": "stdout",
     "output_type": "stream",
     "text": [
      "[Diet Coke]\n"
     ]
    }
   ],
   "source": [
    "most_ordered_item_choice = chipo.groupby('choice_description').sum().sort_values(by='quantity', ascending=False).index[0]\n",
    "print(most_ordered_item_choice)"
   ]
  },
  {
   "cell_type": "markdown",
   "id": "8bb4d174",
   "metadata": {},
   "source": [
    "### Step 12"
   ]
  },
  {
   "cell_type": "code",
   "execution_count": 31,
   "id": "91102ad1",
   "metadata": {},
   "outputs": [
    {
     "name": "stdout",
     "output_type": "stream",
     "text": [
      "4972\n"
     ]
    }
   ],
   "source": [
    "total_ordered_items = chipo['quantity'].sum()\n",
    "print(total_ordered_items)"
   ]
  },
  {
   "cell_type": "markdown",
   "id": "c3e9aacc",
   "metadata": {},
   "source": [
    "### Step 13"
   ]
  },
  {
   "cell_type": "code",
   "execution_count": 41,
   "id": "d648b621",
   "metadata": {},
   "outputs": [
    {
     "name": "stdout",
     "output_type": "stream",
     "text": [
      "float64\n",
      "float64\n"
     ]
    }
   ],
   "source": [
    "# Check the item price type\n",
    "print(chipo['item_price'].dtype)\n",
    "\n",
    "# Convert the item price to float (if it's not already of float type)\n",
    "if chipo['item_price'].dtype == 'object':\n",
    "    # Create a lambda function and change the type of item price\n",
    "    float_converter = lambda x: float(x[1:-1])\n",
    "    chipo['item_price'] = chipo['item_price'].apply(float_converter)\n",
    "\n",
    "# Check the item price type again\n",
    "print(chipo['item_price'].dtype)\n"
   ]
  },
  {
   "cell_type": "markdown",
   "id": "8481d92b",
   "metadata": {},
   "source": [
    "### Step 14"
   ]
  },
  {
   "cell_type": "code",
   "execution_count": 42,
   "id": "bc14e7a0",
   "metadata": {},
   "outputs": [
    {
     "name": "stdout",
     "output_type": "stream",
     "text": [
      "39237.02\n"
     ]
    }
   ],
   "source": [
    "revenue = (chipo['quantity'] * chipo['item_price']).sum()\n",
    "print(revenue)"
   ]
  },
  {
   "cell_type": "markdown",
   "id": "10406ba1",
   "metadata": {},
   "source": [
    "### Step 15"
   ]
  },
  {
   "cell_type": "code",
   "execution_count": 43,
   "id": "c4b241a6",
   "metadata": {},
   "outputs": [
    {
     "name": "stdout",
     "output_type": "stream",
     "text": [
      "1834\n"
     ]
    }
   ],
   "source": [
    "num_orders = chipo['order_id'].nunique()\n",
    "print(num_orders)"
   ]
  },
  {
   "cell_type": "markdown",
   "id": "ebc0a982",
   "metadata": {},
   "source": [
    "### Step 16"
   ]
  },
  {
   "cell_type": "code",
   "execution_count": 44,
   "id": "d8279ff5",
   "metadata": {},
   "outputs": [
    {
     "name": "stdout",
     "output_type": "stream",
     "text": [
      "21.39423118865867\n"
     ]
    }
   ],
   "source": [
    "avg_revenue_per_order = revenue / num_orders\n",
    "print(avg_revenue_per_order)"
   ]
  },
  {
   "cell_type": "markdown",
   "id": "e127fe93",
   "metadata": {},
   "source": [
    "### Step 17"
   ]
  },
  {
   "cell_type": "code",
   "execution_count": 45,
   "id": "03dac014",
   "metadata": {},
   "outputs": [
    {
     "name": "stdout",
     "output_type": "stream",
     "text": [
      "50\n"
     ]
    }
   ],
   "source": [
    "num_items_sold = chipo['item_name'].nunique()\n",
    "print(num_items_sold)\n"
   ]
  },
  {
   "cell_type": "markdown",
   "id": "b5244f60",
   "metadata": {},
   "source": [
    "# Question 6"
   ]
  },
  {
   "cell_type": "code",
   "execution_count": 60,
   "id": "34352748",
   "metadata": {},
   "outputs": [
    {
     "data": {
      "image/png": "[encoded data removed]",
      "text/plain": [
       "<Figure size 640x480 with 1 Axes>"
      ]
     },
     "metadata": {},
     "output_type": "display_data"
    }
   ],
   "source": [
    "import pandas as pd\n",
    "import matplotlib.pyplot as plt\n",
    "\n",
    "# Import the dataset from the provided address\n",
    "marriage_divorce_data = pd.read_csv('us-marriages-divorces-1867-2014.csv')\n",
    "\n",
    "# Create a new column to calculate the number of marriages and divorces per capita\n",
    "marriage_divorce_data['Marriages_per_capita'] = marriage_divorce_data['Marriages']/marriage_divorce_data['Population']\n",
    "marriage_divorce_data['Divorces_per_capita'] = marriage_divorce_data['Divorces']/marriage_divorce_data['Population']\n",
    "\n",
    "# Plot the line chart\n",
    "plt.plot(marriage_divorce_data['Year'], marriage_divorce_data['Marriages_per_capita'], label='Marriages per capita')\n",
    "plt.plot(marriage_divorce_data['Year'], marriage_divorce_data['Divorces_per_capita'], label='Divorces per capita')\n",
    "\n",
    "plt.xlabel('Year')\n",
    "plt.ylabel('Number per capita')\n",
    "\n",
    "plt.legend()\n",
    "plt.show()"
   ]
  },
  {
   "cell_type": "markdown",
   "id": "4d73c637",
   "metadata": {},
   "source": [
    "# Question 7"
   ]
  },
  {
   "cell_type": "code",
   "execution_count": 61,
   "id": "164f826d",
   "metadata": {},
   "outputs": [],
   "source": [
    "import pandas as pd\n",
    "import matplotlib.pyplot as plt"
   ]
  },
  {
   "cell_type": "code",
   "execution_count": 62,
   "id": "4ebaf564",
   "metadata": {},
   "outputs": [],
   "source": [
    "df = pd.read_csv('us-marriages-divorces-1867-2014.csv')"
   ]
  },
  {
   "cell_type": "code",
   "execution_count": 63,
   "id": "8e96e75a",
   "metadata": {},
   "outputs": [],
   "source": [
    "df = df[df['Year'].isin([1900, 1950, 2000])]"
   ]
  },
  {
   "cell_type": "code",
   "execution_count": 64,
   "id": "1fda31b5",
   "metadata": {},
   "outputs": [],
   "source": [
    "df['Marriages_per_capita'] = df['Marriages']/df['Population']\n",
    "df['Divorces_per_capita'] = df['Divorces']/df['Population']"
   ]
  },
  {
   "cell_type": "code",
   "execution_count": 65,
   "id": "9a36581e",
   "metadata": {},
   "outputs": [
    {
     "data": {
      "image/png": "[encoded data removed]",
      "text/plain": [
       "<Figure size 640x480 with 1 Axes>"
      ]
     },
     "metadata": {},
     "output_type": "display_data"
    }
   ],
   "source": [
    "df.plot(x='Year', y=['Marriages_per_capita', 'Divorces_per_capita'], kind='bar')\n",
    "plt.xlabel('Year')\n",
    "plt.ylabel('Number per capita')\n",
    "plt.title('Marriages and Divorces per capita in the U.S.')\n",
    "plt.legend(['Marriages', 'Divorces'])\n",
    "plt.show()"
   ]
  },
  {
   "cell_type": "markdown",
   "id": "6d6cc10b",
   "metadata": {},
   "source": [
    "# Question 8"
   ]
  },
  {
   "cell_type": "code",
   "execution_count": 66,
   "id": "813b04ef",
   "metadata": {},
   "outputs": [
    {
     "data": {
      "image/png": "[encoded data removed]",
      "text/plain": [
       "<Figure size 640x480 with 1 Axes>"
      ]
     },
     "metadata": {},
     "output_type": "display_data"
    }
   ],
   "source": [
    "import pandas as pd\n",
    "import matplotlib.pyplot as plt\n",
    "\n",
    "# Read the CSV file\n",
    "df = pd.read_csv('actor_kill_counts.csv')\n",
    "\n",
    "# Sort the actors by their kill count\n",
    "df = df.sort_values(by='Count', ascending=False)\n",
    "\n",
    "# Create a horizontal bar chart\n",
    "df.plot(x='Actor', y='Count', kind='barh')\n",
    "plt.xlabel('Kill Count')\n",
    "plt.ylabel('Actor')\n",
    "plt.title('Deadliest Actors in Hollywood')\n",
    "\n",
    "# Add labels to each bar with the corresponding actor's name\n",
    "for i, v in enumerate(df['Count']):\n",
    "    plt.text(v + 1, i + .15, str(v), color='blue', fontweight='bold')\n",
    "\n",
    "plt.show()"
   ]
  },
  {
   "cell_type": "markdown",
   "id": "fb1d7519",
   "metadata": {},
   "source": [
    "# Question 9"
   ]
  },
  {
   "cell_type": "code",
   "execution_count": 68,
   "id": "14f54bd4",
   "metadata": {},
   "outputs": [
    {
     "data": {
      "image/png": "[encoded data removed]",
      "text/plain": [
       "<Figure size 640x480 with 1 Axes>"
      ]
     },
     "metadata": {},
     "output_type": "display_data"
    }
   ],
   "source": [
    "import pandas as pd\n",
    "import matplotlib.pyplot as plt\n",
    "\n",
    "df = pd.read_csv('roman-emperor-reigns.csv')\n",
    "\n",
    "# Count the number of Emperors who were assassinated and the number who were not\n",
    "assassinated = df[df['Cause_of_Death'] == 'Assassinated']['Emperor'].count()\n",
    "not_assassinated = df[df['Cause_of_Death'] != 'Assassinated']['Emperor'].count()\n",
    "\n",
    "# Create a pie chart\n",
    "data = [assassinated, not_assassinated]\n",
    "labels = ['Assassinated', 'Not Assassinated']\n",
    "df = pd.DataFrame({'count': data}, index=labels)\n",
    "df.plot(kind='pie', y='count', legend=False, autopct='%1.1f%%')\n",
    "plt.axis('equal')\n",
    "plt.title('Fraction of Roman Emperors that were assassinated')\n",
    "plt.show()\n"
   ]
  },
  {
   "cell_type": "markdown",
   "id": "4a4f8cb9",
   "metadata": {},
   "source": [
    "# Question 10"
   ]
  },
  {
   "cell_type": "code",
   "execution_count": 67,
   "id": "7aa83d40",
   "metadata": {},
   "outputs": [
    {
     "data": {
      "image/png": "[encoded data removed]",
      "text/plain": [
       "<Figure size 640x480 with 1 Axes>"
      ]
     },
     "metadata": {},
     "output_type": "display_data"
    }
   ],
   "source": [
    "import pandas as pd\n",
    "import matplotlib.pyplot as plt\n",
    "import numpy as np\n",
    "\n",
    "# Read the CSV file\n",
    "df = pd.read_csv('arcade-revenue-vs-cs-doctorates.csv')\n",
    "\n",
    "# Create a new DataFrame that includes only the data from 2000 to 2009\n",
    "df_new = df[(df['Year'] >= 2000) & (df['Year'] <= 2009)]\n",
    "\n",
    "# Create a scatter plot and color each dot according to its year\n",
    "colors = np.where(df_new['Year'] < 2005, 'r', 'b')\n",
    "df_new.plot(x='Computer Science Doctorates Awarded (US)', y='Total Arcade Revenue (billions)', kind='scatter', c=colors)\n",
    "plt.xlabel('Computer Science Doctorates Awarded (US)')\n",
    "plt.ylabel('Total Arcade Revenue (billions)')\n",
    "plt.title('Relationship between Arcade Revenue and CS Doctorates (2000-2009)')\n",
    "plt.show()\n"
   ]
  },
  {
   "cell_type": "code",
   "execution_count": null,
   "id": "34e2e03d",
   "metadata": {},
   "outputs": [],
   "source": []
  }
 ],
 "metadata": {
  "kernelspec": {
   "display_name": "Python 3 (ipykernel)",
   "language": "python",
   "name": "python3"
  },
  "language_info": {
   "codemirror_mode": {
    "name": "ipython",
    "version": 3
   },
   "file_extension": ".py",
   "mimetype": "text/x-python",
   "name": "python",
   "nbconvert_exporter": "python",
   "pygments_lexer": "ipython3",
   "version": "3.9.13"
  }
 },
 "nbformat": 4,
 "nbformat_minor": 5
}
